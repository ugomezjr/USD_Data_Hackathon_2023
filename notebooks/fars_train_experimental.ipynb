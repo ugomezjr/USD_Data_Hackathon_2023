{
 "cells": [
  {
   "cell_type": "markdown",
   "id": "bd07579e",
   "metadata": {},
   "source": [
    "# Multiclass Classification of Fatal Car Crashes\n",
    "Authors:  Ned Kost, Ulises Gomez\n",
    "Date:  August 25th, 2023\n",
    "\n",
    "## Goal\n",
    "Predict the contributing factor for a fatal car crash.  The contributing factor will fall into 3 categories: \n",
    "- drunk_driver_involved\n",
    "- speeding_driver_involved\n",
    "- other\n",
    "\n",
    "## TODO\n",
    "- Load Data into dataframe and clean it\n",
    "- Identify features to use for the classifier model\n",
    "- Find a classifier that will do multiclass and probabilty as output.  Preferrably with explainability\n",
    "- Dockerize the output"
   ]
  },
  {
   "cell_type": "code",
   "execution_count": 1,
   "id": "c9dbd6f8",
   "metadata": {},
   "outputs": [],
   "source": [
    "import pandas as pd\n",
    "import numpy as np\n",
    "import seaborn as sns\n",
    "import matplotlib.pyplot as plt\n",
    "import warnings\n",
    "\n",
    "from sklearn.naive_bayes import CategoricalNB\n",
    "from sklearn.model_selection import train_test_split\n",
    "from sklearn.naive_bayes import MultinomialNB\n",
    "from sklearn.preprocessing import LabelEncoder\n",
    "from sklearn.metrics import confusion_matrix\n",
    "from sklearn.metrics import f1_score\n",
    "\n",
    "from sklearn.ensemble import RandomForestClassifier\n",
    "from sklearn.metrics import accuracy_score, classification_report\n",
    "\n",
    "from sklearn.svm import SVC\n",
    "\n",
    "import xgboost as xgb\n",
    "\n",
    "from sklearn.preprocessing import LabelEncoder"
   ]
  },
  {
   "cell_type": "code",
   "execution_count": 2,
   "id": "0994b41b",
   "metadata": {},
   "outputs": [],
   "source": [
    "warnings.filterwarnings(\"ignore\")"
   ]
  },
  {
   "cell_type": "markdown",
   "id": "ab701e3e",
   "metadata": {},
   "source": [
    "## Load and Clean Data"
   ]
  },
  {
   "cell_type": "code",
   "execution_count": 8,
   "id": "758b8634",
   "metadata": {},
   "outputs": [],
   "source": [
    "from pathlib import Path\n",
    "import pandas as pd"
   ]
  },
  {
   "cell_type": "code",
   "execution_count": 9,
   "id": "372bded8",
   "metadata": {},
   "outputs": [],
   "source": [
    "train_directory = Path(\"../data/fars_train.csv\")\n",
    "test_directory = Path(\"../data/fars_test.csv\")"
   ]
  },
  {
   "cell_type": "code",
   "execution_count": 10,
   "id": "2db18432",
   "metadata": {},
   "outputs": [
    {
     "data": {
      "text/html": [
       "<div>\n",
       "<style scoped>\n",
       "    .dataframe tbody tr th:only-of-type {\n",
       "        vertical-align: middle;\n",
       "    }\n",
       "\n",
       "    .dataframe tbody tr th {\n",
       "        vertical-align: top;\n",
       "    }\n",
       "\n",
       "    .dataframe thead th {\n",
       "        text-align: right;\n",
       "    }\n",
       "</style>\n",
       "<table border=\"1\" class=\"dataframe\">\n",
       "  <thead>\n",
       "    <tr style=\"text-align: right;\">\n",
       "      <th></th>\n",
       "      <th>u_id</th>\n",
       "      <th>fatals</th>\n",
       "      <th>a_ct</th>\n",
       "      <th>a_ped_f</th>\n",
       "      <th>a_pedal_f</th>\n",
       "      <th>a_roll</th>\n",
       "      <th>a_hr</th>\n",
       "      <th>a_polpur</th>\n",
       "      <th>month</th>\n",
       "      <th>day</th>\n",
       "      <th>...</th>\n",
       "      <th>owner</th>\n",
       "      <th>deaths</th>\n",
       "      <th>numoccs</th>\n",
       "      <th>impact1</th>\n",
       "      <th>deformed</th>\n",
       "      <th>ve_forms</th>\n",
       "      <th>ve_total</th>\n",
       "      <th>weather</th>\n",
       "      <th>lgt_cond</th>\n",
       "      <th>driver_factor</th>\n",
       "    </tr>\n",
       "  </thead>\n",
       "  <tbody>\n",
       "    <tr>\n",
       "      <th>0</th>\n",
       "      <td>32083</td>\n",
       "      <td>1</td>\n",
       "      <td>Single-Vehicle Crash</td>\n",
       "      <td>Other Crash</td>\n",
       "      <td>Other Crash</td>\n",
       "      <td>Other Crash</td>\n",
       "      <td>No - Hit and Run</td>\n",
       "      <td>Other Crash</td>\n",
       "      <td>10</td>\n",
       "      <td>2</td>\n",
       "      <td>...</td>\n",
       "      <td>Driver (in this crash) Was Registered Owner</td>\n",
       "      <td>1</td>\n",
       "      <td>1.0</td>\n",
       "      <td>Clockpoint 12</td>\n",
       "      <td>Disabling damage</td>\n",
       "      <td>1</td>\n",
       "      <td>1</td>\n",
       "      <td>Clear</td>\n",
       "      <td>Dark - not lighted</td>\n",
       "      <td>other</td>\n",
       "    </tr>\n",
       "    <tr>\n",
       "      <th>1</th>\n",
       "      <td>55073</td>\n",
       "      <td>1</td>\n",
       "      <td>Single-Vehicle Crash</td>\n",
       "      <td>Other Crash</td>\n",
       "      <td>Other Crash</td>\n",
       "      <td>Other Crash</td>\n",
       "      <td>No - Hit and Run</td>\n",
       "      <td>Other Crash</td>\n",
       "      <td>6</td>\n",
       "      <td>21</td>\n",
       "      <td>...</td>\n",
       "      <td>Driver (in this crash) Not Registered Owner (o...</td>\n",
       "      <td>1</td>\n",
       "      <td>1.0</td>\n",
       "      <td>Clockpoint 1</td>\n",
       "      <td>Disabling damage</td>\n",
       "      <td>1</td>\n",
       "      <td>1</td>\n",
       "      <td>Clear</td>\n",
       "      <td>Daylight</td>\n",
       "      <td>speeding_driver_involved</td>\n",
       "    </tr>\n",
       "    <tr>\n",
       "      <th>2</th>\n",
       "      <td>7458</td>\n",
       "      <td>1</td>\n",
       "      <td>Single-Vehicle Crash</td>\n",
       "      <td>Other Crash</td>\n",
       "      <td>Other Crash</td>\n",
       "      <td>Other Crash</td>\n",
       "      <td>No - Hit and Run</td>\n",
       "      <td>Other Crash</td>\n",
       "      <td>7</td>\n",
       "      <td>14</td>\n",
       "      <td>...</td>\n",
       "      <td>Driver (in this crash) Was Registered Owner</td>\n",
       "      <td>0</td>\n",
       "      <td>1.0</td>\n",
       "      <td>Clockpoint 12</td>\n",
       "      <td>NaN</td>\n",
       "      <td>1</td>\n",
       "      <td>1</td>\n",
       "      <td>Clear</td>\n",
       "      <td>Daylight</td>\n",
       "      <td>other</td>\n",
       "    </tr>\n",
       "    <tr>\n",
       "      <th>3</th>\n",
       "      <td>5685</td>\n",
       "      <td>1</td>\n",
       "      <td>Single-Vehicle Crash</td>\n",
       "      <td>Other Crash</td>\n",
       "      <td>Other Crash</td>\n",
       "      <td>Other Crash</td>\n",
       "      <td>No - Hit and Run</td>\n",
       "      <td>Other Crash</td>\n",
       "      <td>9</td>\n",
       "      <td>15</td>\n",
       "      <td>...</td>\n",
       "      <td>Driver (in this crash) Not Registered Owner (o...</td>\n",
       "      <td>0</td>\n",
       "      <td>1.0</td>\n",
       "      <td>Clockpoint 12</td>\n",
       "      <td>Functional damage</td>\n",
       "      <td>1</td>\n",
       "      <td>1</td>\n",
       "      <td>Clear</td>\n",
       "      <td>Dark - not lighted</td>\n",
       "      <td>other</td>\n",
       "    </tr>\n",
       "    <tr>\n",
       "      <th>4</th>\n",
       "      <td>9245</td>\n",
       "      <td>1</td>\n",
       "      <td>Single-Vehicle Crash</td>\n",
       "      <td>Other Crash</td>\n",
       "      <td>Other Crash</td>\n",
       "      <td>Other Crash</td>\n",
       "      <td>No - Hit and Run</td>\n",
       "      <td>Other Crash</td>\n",
       "      <td>9</td>\n",
       "      <td>28</td>\n",
       "      <td>...</td>\n",
       "      <td>Driver (in this crash) Was Registered Owner</td>\n",
       "      <td>1</td>\n",
       "      <td>1.0</td>\n",
       "      <td>Clockpoint 9</td>\n",
       "      <td>Disabling damage</td>\n",
       "      <td>1</td>\n",
       "      <td>1</td>\n",
       "      <td>Clear</td>\n",
       "      <td>Dark - not lighted</td>\n",
       "      <td>drunk_driver_involved</td>\n",
       "    </tr>\n",
       "  </tbody>\n",
       "</table>\n",
       "<p>5 rows × 39 columns</p>\n",
       "</div>"
      ],
      "text/plain": [
       "    u_id  fatals                  a_ct      a_ped_f    a_pedal_f       a_roll  \\\n",
       "0  32083       1  Single-Vehicle Crash  Other Crash  Other Crash  Other Crash   \n",
       "1  55073       1  Single-Vehicle Crash  Other Crash  Other Crash  Other Crash   \n",
       "2   7458       1  Single-Vehicle Crash  Other Crash  Other Crash  Other Crash   \n",
       "3   5685       1  Single-Vehicle Crash  Other Crash  Other Crash  Other Crash   \n",
       "4   9245       1  Single-Vehicle Crash  Other Crash  Other Crash  Other Crash   \n",
       "\n",
       "               a_hr     a_polpur  month  day  ...  \\\n",
       "0  No - Hit and Run  Other Crash     10    2  ...   \n",
       "1  No - Hit and Run  Other Crash      6   21  ...   \n",
       "2  No - Hit and Run  Other Crash      7   14  ...   \n",
       "3  No - Hit and Run  Other Crash      9   15  ...   \n",
       "4  No - Hit and Run  Other Crash      9   28  ...   \n",
       "\n",
       "                                               owner  deaths  numoccs  \\\n",
       "0        Driver (in this crash) Was Registered Owner       1      1.0   \n",
       "1  Driver (in this crash) Not Registered Owner (o...       1      1.0   \n",
       "2        Driver (in this crash) Was Registered Owner       0      1.0   \n",
       "3  Driver (in this crash) Not Registered Owner (o...       0      1.0   \n",
       "4        Driver (in this crash) Was Registered Owner       1      1.0   \n",
       "\n",
       "         impact1           deformed ve_forms ve_total weather  \\\n",
       "0  Clockpoint 12   Disabling damage        1        1   Clear   \n",
       "1   Clockpoint 1   Disabling damage        1        1   Clear   \n",
       "2  Clockpoint 12                NaN        1        1   Clear   \n",
       "3  Clockpoint 12  Functional damage        1        1   Clear   \n",
       "4   Clockpoint 9   Disabling damage        1        1   Clear   \n",
       "\n",
       "             lgt_cond             driver_factor  \n",
       "0  Dark - not lighted                     other  \n",
       "1            Daylight  speeding_driver_involved  \n",
       "2            Daylight                     other  \n",
       "3  Dark - not lighted                     other  \n",
       "4  Dark - not lighted     drunk_driver_involved  \n",
       "\n",
       "[5 rows x 39 columns]"
      ]
     },
     "execution_count": 10,
     "metadata": {},
     "output_type": "execute_result"
    }
   ],
   "source": [
    "# Load data from Dataframe\n",
    "df = pd.read_csv(train_directory, quoting=1, delimiter=',')\n",
    "df.head()"
   ]
  },
  {
   "cell_type": "code",
   "execution_count": 13,
   "id": "1da1e8ac",
   "metadata": {},
   "outputs": [],
   "source": [
    "def binary_cat(row_value, zero_value):\n",
    "    return 0 if row_value == zero_value else 1"
   ]
  },
  {
   "cell_type": "code",
   "execution_count": 14,
   "id": "3be4c812",
   "metadata": {},
   "outputs": [],
   "source": [
    "#Clean up Categorical Data\n",
    "features = ['fatals', 'age', 'permvit', 'deaths', 'month', 'pernotmvit', 've_total']\n",
    "\n",
    "cleaned_df = df[features]\n",
    "#cleaned_df['numoccs'] = cleaned_df['numoccs'].fillna(0.0)\n",
    "\n",
    "#Create columns for Binary Features\n",
    "cleaned_df['is_ped_fatality'] = df['a_ped_f'].apply(lambda x: binary_cat(x, 'Other Crash'))\n",
    "cleaned_df['is_weekend'] = df['a_dow_type'].apply(lambda x: binary_cat(x, 'Weekday'))\n",
    "cleaned_df['is_night'] = df['a_tod_type'].apply(lambda x: binary_cat(x, 'Daytime'))\n",
    "cleaned_df['is_urban'] = df['a_ru'].apply(lambda x: binary_cat(x, 'Rural'))\n",
    "cleaned_df['is_inter'] = df['a_inter'].apply(lambda x: binary_cat(x, 'Non-Interstate'))\n",
    "cleaned_df['is_intsec'] = df['a_intsec'].apply(lambda x: binary_cat(x, 'Non-Intersection'))\n",
    "cleaned_df['on_roadway'] = df['a_relrd'].apply(lambda x: 1 if x.startswith('On') else 0)\n",
    "cleaned_df['off_roadway'] = df['a_relrd'].apply(lambda x: 1 if x.startswith('Off') else 0)\n",
    "cleaned_df['is_junc'] = df['a_junc'].apply(lambda x: 1 if str(x).startswith('Junct') else 0)\n",
    "cleaned_df['not_junc'] = df['a_junc'].apply(lambda x: 1 if str(x).startswith('Non') else 0)\n",
    "cleaned_df['is_bike_fatality'] = df['a_ped_f'].apply(lambda x: binary_cat(x, 'Other Crash'))\n",
    "#cleaned_df['is_rollover'] = df['a_roll'].apply(lambda x: binary_cat(x, 'Other Crash'))   #hurt multi-nomial output\n",
    "cleaned_df['is_hit_and_run'] = df['a_hr'].apply(lambda x: binary_cat(x, 'No - Hit and Run'))  #no impact to multi-nomial\n",
    "cleaned_df['is_police_pursuit'] = df['a_polpur'].apply(lambda x: binary_cat(x, 'Other Crash'))  \n",
    "cleaned_df['is_ped'] = df['a_ped'].apply(lambda x: binary_cat(x, 'no'))  \n",
    "\n",
    "\n",
    "#Create columns for non-Ordinal Features\n",
    "label_encoder = LabelEncoder()     #Create Label Encoder\n",
    "cleaned_df['body_type'] = label_encoder.fit_transform(df['a_body'])\n",
    "cleaned_df['owner_reg'] = label_encoder.fit_transform(df['owner'])\n",
    "cleaned_df['impact_loc'] = label_encoder.fit_transform(df['impact1'])\n",
    "cleaned_df['weather_cond'] = label_encoder.fit_transform(df['weather'])\n",
    "cleaned_df['light_cond'] = label_encoder.fit_transform(df['lgt_cond'])\n",
    "\n",
    "\n",
    "#Create column for Ordinal Features (treating as non-ordinal FOR NOW)\n",
    "cleaned_df['road_type'] = label_encoder.fit_transform(df['a_roadfc'])\n",
    "cleaned_df['deform_type'] = label_encoder.fit_transform(df['deformed'])\n",
    "#cleaned_df['state_occ'] = label_encoder.fit_transform(df['state'])  #very minor neg impat to multi-nomial\n",
    "\n"
   ]
  },
  {
   "cell_type": "markdown",
   "id": "69af6e88",
   "metadata": {},
   "source": [
    "# Build Train and Test dataset"
   ]
  },
  {
   "cell_type": "code",
   "execution_count": 16,
   "id": "3e98d490",
   "metadata": {},
   "outputs": [],
   "source": [
    "#Create Datasets to use in Models\n",
    "X, y = cleaned_df, df[\"driver_factor\"]"
   ]
  },
  {
   "cell_type": "code",
   "execution_count": 17,
   "id": "eaeadde3",
   "metadata": {},
   "outputs": [],
   "source": [
    "X_train, X_test, y_train, y_test = train_test_split(X, y, test_size=.33, random_state=125)"
   ]
  },
  {
   "cell_type": "code",
   "execution_count": 18,
   "id": "d9ecddcb",
   "metadata": {},
   "outputs": [
    {
     "data": {
      "text/html": [
       "<div>\n",
       "<style scoped>\n",
       "    .dataframe tbody tr th:only-of-type {\n",
       "        vertical-align: middle;\n",
       "    }\n",
       "\n",
       "    .dataframe tbody tr th {\n",
       "        vertical-align: top;\n",
       "    }\n",
       "\n",
       "    .dataframe thead th {\n",
       "        text-align: right;\n",
       "    }\n",
       "</style>\n",
       "<table border=\"1\" class=\"dataframe\">\n",
       "  <thead>\n",
       "    <tr style=\"text-align: right;\">\n",
       "      <th></th>\n",
       "      <th>fatals</th>\n",
       "      <th>age</th>\n",
       "      <th>permvit</th>\n",
       "      <th>deaths</th>\n",
       "      <th>month</th>\n",
       "      <th>pernotmvit</th>\n",
       "      <th>ve_total</th>\n",
       "      <th>is_ped_fatality</th>\n",
       "      <th>is_weekend</th>\n",
       "      <th>is_night</th>\n",
       "      <th>...</th>\n",
       "      <th>is_hit_and_run</th>\n",
       "      <th>is_police_pursuit</th>\n",
       "      <th>is_ped</th>\n",
       "      <th>body_type</th>\n",
       "      <th>owner_reg</th>\n",
       "      <th>impact_loc</th>\n",
       "      <th>weather_cond</th>\n",
       "      <th>light_cond</th>\n",
       "      <th>road_type</th>\n",
       "      <th>deform_type</th>\n",
       "    </tr>\n",
       "  </thead>\n",
       "  <tbody>\n",
       "    <tr>\n",
       "      <th>2542</th>\n",
       "      <td>1</td>\n",
       "      <td>55</td>\n",
       "      <td>1</td>\n",
       "      <td>0</td>\n",
       "      <td>10</td>\n",
       "      <td>1</td>\n",
       "      <td>1</td>\n",
       "      <td>1</td>\n",
       "      <td>1</td>\n",
       "      <td>1</td>\n",
       "      <td>...</td>\n",
       "      <td>0</td>\n",
       "      <td>0</td>\n",
       "      <td>1</td>\n",
       "      <td>0</td>\n",
       "      <td>1</td>\n",
       "      <td>15</td>\n",
       "      <td>2</td>\n",
       "      <td>0</td>\n",
       "      <td>3</td>\n",
       "      <td>1</td>\n",
       "    </tr>\n",
       "    <tr>\n",
       "      <th>43289</th>\n",
       "      <td>1</td>\n",
       "      <td>63</td>\n",
       "      <td>1</td>\n",
       "      <td>1</td>\n",
       "      <td>1</td>\n",
       "      <td>0</td>\n",
       "      <td>1</td>\n",
       "      <td>0</td>\n",
       "      <td>0</td>\n",
       "      <td>0</td>\n",
       "      <td>...</td>\n",
       "      <td>0</td>\n",
       "      <td>0</td>\n",
       "      <td>0</td>\n",
       "      <td>0</td>\n",
       "      <td>1</td>\n",
       "      <td>2</td>\n",
       "      <td>2</td>\n",
       "      <td>1</td>\n",
       "      <td>2</td>\n",
       "      <td>0</td>\n",
       "    </tr>\n",
       "    <tr>\n",
       "      <th>14110</th>\n",
       "      <td>1</td>\n",
       "      <td>53</td>\n",
       "      <td>1</td>\n",
       "      <td>1</td>\n",
       "      <td>12</td>\n",
       "      <td>0</td>\n",
       "      <td>1</td>\n",
       "      <td>0</td>\n",
       "      <td>1</td>\n",
       "      <td>0</td>\n",
       "      <td>...</td>\n",
       "      <td>0</td>\n",
       "      <td>0</td>\n",
       "      <td>0</td>\n",
       "      <td>4</td>\n",
       "      <td>1</td>\n",
       "      <td>4</td>\n",
       "      <td>3</td>\n",
       "      <td>4</td>\n",
       "      <td>4</td>\n",
       "      <td>0</td>\n",
       "    </tr>\n",
       "    <tr>\n",
       "      <th>40780</th>\n",
       "      <td>1</td>\n",
       "      <td>86</td>\n",
       "      <td>1</td>\n",
       "      <td>1</td>\n",
       "      <td>12</td>\n",
       "      <td>0</td>\n",
       "      <td>1</td>\n",
       "      <td>0</td>\n",
       "      <td>0</td>\n",
       "      <td>0</td>\n",
       "      <td>...</td>\n",
       "      <td>0</td>\n",
       "      <td>0</td>\n",
       "      <td>0</td>\n",
       "      <td>2</td>\n",
       "      <td>1</td>\n",
       "      <td>4</td>\n",
       "      <td>2</td>\n",
       "      <td>4</td>\n",
       "      <td>2</td>\n",
       "      <td>0</td>\n",
       "    </tr>\n",
       "    <tr>\n",
       "      <th>17451</th>\n",
       "      <td>2</td>\n",
       "      <td>33</td>\n",
       "      <td>2</td>\n",
       "      <td>2</td>\n",
       "      <td>7</td>\n",
       "      <td>0</td>\n",
       "      <td>4</td>\n",
       "      <td>0</td>\n",
       "      <td>1</td>\n",
       "      <td>1</td>\n",
       "      <td>...</td>\n",
       "      <td>0</td>\n",
       "      <td>0</td>\n",
       "      <td>0</td>\n",
       "      <td>0</td>\n",
       "      <td>1</td>\n",
       "      <td>4</td>\n",
       "      <td>2</td>\n",
       "      <td>0</td>\n",
       "      <td>4</td>\n",
       "      <td>0</td>\n",
       "    </tr>\n",
       "  </tbody>\n",
       "</table>\n",
       "<p>5 rows × 28 columns</p>\n",
       "</div>"
      ],
      "text/plain": [
       "       fatals  age  permvit  deaths  month  pernotmvit  ve_total  \\\n",
       "2542        1   55        1       0     10           1         1   \n",
       "43289       1   63        1       1      1           0         1   \n",
       "14110       1   53        1       1     12           0         1   \n",
       "40780       1   86        1       1     12           0         1   \n",
       "17451       2   33        2       2      7           0         4   \n",
       "\n",
       "       is_ped_fatality  is_weekend  is_night  ...  is_hit_and_run  \\\n",
       "2542                 1           1         1  ...               0   \n",
       "43289                0           0         0  ...               0   \n",
       "14110                0           1         0  ...               0   \n",
       "40780                0           0         0  ...               0   \n",
       "17451                0           1         1  ...               0   \n",
       "\n",
       "       is_police_pursuit  is_ped  body_type  owner_reg  impact_loc  \\\n",
       "2542                   0       1          0          1          15   \n",
       "43289                  0       0          0          1           2   \n",
       "14110                  0       0          4          1           4   \n",
       "40780                  0       0          2          1           4   \n",
       "17451                  0       0          0          1           4   \n",
       "\n",
       "       weather_cond  light_cond  road_type  deform_type  \n",
       "2542              2           0          3            1  \n",
       "43289             2           1          2            0  \n",
       "14110             3           4          4            0  \n",
       "40780             2           4          2            0  \n",
       "17451             2           0          4            0  \n",
       "\n",
       "[5 rows x 28 columns]"
      ]
     },
     "execution_count": 18,
     "metadata": {},
     "output_type": "execute_result"
    }
   ],
   "source": [
    "X_train.head()"
   ]
  },
  {
   "cell_type": "code",
   "execution_count": 19,
   "id": "11d5958c",
   "metadata": {},
   "outputs": [
    {
     "data": {
      "text/plain": [
       "2542                     other\n",
       "43289    drunk_driver_involved\n",
       "14110    drunk_driver_involved\n",
       "40780                    other\n",
       "17451    drunk_driver_involved\n",
       "Name: driver_factor, dtype: object"
      ]
     },
     "execution_count": 19,
     "metadata": {},
     "output_type": "execute_result"
    }
   ],
   "source": [
    "y_train.head()"
   ]
  },
  {
   "cell_type": "markdown",
   "id": "fa0f471b",
   "metadata": {},
   "source": [
    "# Random Forest Model"
   ]
  },
  {
   "cell_type": "code",
   "execution_count": 22,
   "id": "55f326ca",
   "metadata": {},
   "outputs": [
    {
     "data": {
      "text/html": [
       "<div>\n",
       "<style scoped>\n",
       "    .dataframe tbody tr th:only-of-type {\n",
       "        vertical-align: middle;\n",
       "    }\n",
       "\n",
       "    .dataframe tbody tr th {\n",
       "        vertical-align: top;\n",
       "    }\n",
       "\n",
       "    .dataframe thead th {\n",
       "        text-align: right;\n",
       "    }\n",
       "</style>\n",
       "<table border=\"1\" class=\"dataframe\">\n",
       "  <thead>\n",
       "    <tr style=\"text-align: right;\">\n",
       "      <th></th>\n",
       "      <th>fatals</th>\n",
       "      <th>age</th>\n",
       "      <th>permvit</th>\n",
       "      <th>deaths</th>\n",
       "      <th>month</th>\n",
       "      <th>pernotmvit</th>\n",
       "      <th>ve_total</th>\n",
       "      <th>is_ped_fatality</th>\n",
       "      <th>is_weekend</th>\n",
       "      <th>is_night</th>\n",
       "      <th>...</th>\n",
       "      <th>is_hit_and_run</th>\n",
       "      <th>is_police_pursuit</th>\n",
       "      <th>is_ped</th>\n",
       "      <th>body_type</th>\n",
       "      <th>owner_reg</th>\n",
       "      <th>impact_loc</th>\n",
       "      <th>weather_cond</th>\n",
       "      <th>light_cond</th>\n",
       "      <th>road_type</th>\n",
       "      <th>deform_type</th>\n",
       "    </tr>\n",
       "  </thead>\n",
       "  <tbody>\n",
       "    <tr>\n",
       "      <th>2542</th>\n",
       "      <td>1</td>\n",
       "      <td>55</td>\n",
       "      <td>1</td>\n",
       "      <td>0</td>\n",
       "      <td>10</td>\n",
       "      <td>1</td>\n",
       "      <td>1</td>\n",
       "      <td>1</td>\n",
       "      <td>1</td>\n",
       "      <td>1</td>\n",
       "      <td>...</td>\n",
       "      <td>0</td>\n",
       "      <td>0</td>\n",
       "      <td>1</td>\n",
       "      <td>0</td>\n",
       "      <td>1</td>\n",
       "      <td>15</td>\n",
       "      <td>2</td>\n",
       "      <td>0</td>\n",
       "      <td>3</td>\n",
       "      <td>1</td>\n",
       "    </tr>\n",
       "    <tr>\n",
       "      <th>43289</th>\n",
       "      <td>1</td>\n",
       "      <td>63</td>\n",
       "      <td>1</td>\n",
       "      <td>1</td>\n",
       "      <td>1</td>\n",
       "      <td>0</td>\n",
       "      <td>1</td>\n",
       "      <td>0</td>\n",
       "      <td>0</td>\n",
       "      <td>0</td>\n",
       "      <td>...</td>\n",
       "      <td>0</td>\n",
       "      <td>0</td>\n",
       "      <td>0</td>\n",
       "      <td>0</td>\n",
       "      <td>1</td>\n",
       "      <td>2</td>\n",
       "      <td>2</td>\n",
       "      <td>1</td>\n",
       "      <td>2</td>\n",
       "      <td>0</td>\n",
       "    </tr>\n",
       "    <tr>\n",
       "      <th>14110</th>\n",
       "      <td>1</td>\n",
       "      <td>53</td>\n",
       "      <td>1</td>\n",
       "      <td>1</td>\n",
       "      <td>12</td>\n",
       "      <td>0</td>\n",
       "      <td>1</td>\n",
       "      <td>0</td>\n",
       "      <td>1</td>\n",
       "      <td>0</td>\n",
       "      <td>...</td>\n",
       "      <td>0</td>\n",
       "      <td>0</td>\n",
       "      <td>0</td>\n",
       "      <td>4</td>\n",
       "      <td>1</td>\n",
       "      <td>4</td>\n",
       "      <td>3</td>\n",
       "      <td>4</td>\n",
       "      <td>4</td>\n",
       "      <td>0</td>\n",
       "    </tr>\n",
       "    <tr>\n",
       "      <th>40780</th>\n",
       "      <td>1</td>\n",
       "      <td>86</td>\n",
       "      <td>1</td>\n",
       "      <td>1</td>\n",
       "      <td>12</td>\n",
       "      <td>0</td>\n",
       "      <td>1</td>\n",
       "      <td>0</td>\n",
       "      <td>0</td>\n",
       "      <td>0</td>\n",
       "      <td>...</td>\n",
       "      <td>0</td>\n",
       "      <td>0</td>\n",
       "      <td>0</td>\n",
       "      <td>2</td>\n",
       "      <td>1</td>\n",
       "      <td>4</td>\n",
       "      <td>2</td>\n",
       "      <td>4</td>\n",
       "      <td>2</td>\n",
       "      <td>0</td>\n",
       "    </tr>\n",
       "    <tr>\n",
       "      <th>17451</th>\n",
       "      <td>2</td>\n",
       "      <td>33</td>\n",
       "      <td>2</td>\n",
       "      <td>2</td>\n",
       "      <td>7</td>\n",
       "      <td>0</td>\n",
       "      <td>4</td>\n",
       "      <td>0</td>\n",
       "      <td>1</td>\n",
       "      <td>1</td>\n",
       "      <td>...</td>\n",
       "      <td>0</td>\n",
       "      <td>0</td>\n",
       "      <td>0</td>\n",
       "      <td>0</td>\n",
       "      <td>1</td>\n",
       "      <td>4</td>\n",
       "      <td>2</td>\n",
       "      <td>0</td>\n",
       "      <td>4</td>\n",
       "      <td>0</td>\n",
       "    </tr>\n",
       "  </tbody>\n",
       "</table>\n",
       "<p>5 rows × 28 columns</p>\n",
       "</div>"
      ],
      "text/plain": [
       "       fatals  age  permvit  deaths  month  pernotmvit  ve_total  \\\n",
       "2542        1   55        1       0     10           1         1   \n",
       "43289       1   63        1       1      1           0         1   \n",
       "14110       1   53        1       1     12           0         1   \n",
       "40780       1   86        1       1     12           0         1   \n",
       "17451       2   33        2       2      7           0         4   \n",
       "\n",
       "       is_ped_fatality  is_weekend  is_night  ...  is_hit_and_run  \\\n",
       "2542                 1           1         1  ...               0   \n",
       "43289                0           0         0  ...               0   \n",
       "14110                0           1         0  ...               0   \n",
       "40780                0           0         0  ...               0   \n",
       "17451                0           1         1  ...               0   \n",
       "\n",
       "       is_police_pursuit  is_ped  body_type  owner_reg  impact_loc  \\\n",
       "2542                   0       1          0          1          15   \n",
       "43289                  0       0          0          1           2   \n",
       "14110                  0       0          4          1           4   \n",
       "40780                  0       0          2          1           4   \n",
       "17451                  0       0          0          1           4   \n",
       "\n",
       "       weather_cond  light_cond  road_type  deform_type  \n",
       "2542              2           0          3            1  \n",
       "43289             2           1          2            0  \n",
       "14110             3           4          4            0  \n",
       "40780             2           4          2            0  \n",
       "17451             2           0          4            0  \n",
       "\n",
       "[5 rows x 28 columns]"
      ]
     },
     "execution_count": 22,
     "metadata": {},
     "output_type": "execute_result"
    }
   ],
   "source": [
    "X_train.head()"
   ]
  },
  {
   "cell_type": "code",
   "execution_count": 23,
   "id": "65484c4d",
   "metadata": {},
   "outputs": [
    {
     "data": {
      "text/plain": [
       "2542                     other\n",
       "43289    drunk_driver_involved\n",
       "14110    drunk_driver_involved\n",
       "40780                    other\n",
       "17451    drunk_driver_involved\n",
       "Name: driver_factor, dtype: object"
      ]
     },
     "execution_count": 23,
     "metadata": {},
     "output_type": "execute_result"
    }
   ],
   "source": [
    "y_train.head()"
   ]
  },
  {
   "cell_type": "code",
   "execution_count": 67,
   "id": "b06d7601",
   "metadata": {},
   "outputs": [
    {
     "name": "stdout",
     "output_type": "stream",
     "text": [
      "RandomForestClassifier(random_state=42)\n"
     ]
    }
   ],
   "source": [
    "# Initialize the Random Forest model\n",
    "rf_model = RandomForestClassifier(n_estimators=100, random_state=42)\n",
    "print(rf_model)"
   ]
  },
  {
   "cell_type": "code",
   "execution_count": 68,
   "id": "7af09470",
   "metadata": {},
   "outputs": [
    {
     "data": {
      "text/html": [
       "<style>#sk-container-id-4 {color: black;}#sk-container-id-4 pre{padding: 0;}#sk-container-id-4 div.sk-toggleable {background-color: white;}#sk-container-id-4 label.sk-toggleable__label {cursor: pointer;display: block;width: 100%;margin-bottom: 0;padding: 0.3em;box-sizing: border-box;text-align: center;}#sk-container-id-4 label.sk-toggleable__label-arrow:before {content: \"▸\";float: left;margin-right: 0.25em;color: #696969;}#sk-container-id-4 label.sk-toggleable__label-arrow:hover:before {color: black;}#sk-container-id-4 div.sk-estimator:hover label.sk-toggleable__label-arrow:before {color: black;}#sk-container-id-4 div.sk-toggleable__content {max-height: 0;max-width: 0;overflow: hidden;text-align: left;background-color: #f0f8ff;}#sk-container-id-4 div.sk-toggleable__content pre {margin: 0.2em;color: black;border-radius: 0.25em;background-color: #f0f8ff;}#sk-container-id-4 input.sk-toggleable__control:checked~div.sk-toggleable__content {max-height: 200px;max-width: 100%;overflow: auto;}#sk-container-id-4 input.sk-toggleable__control:checked~label.sk-toggleable__label-arrow:before {content: \"▾\";}#sk-container-id-4 div.sk-estimator input.sk-toggleable__control:checked~label.sk-toggleable__label {background-color: #d4ebff;}#sk-container-id-4 div.sk-label input.sk-toggleable__control:checked~label.sk-toggleable__label {background-color: #d4ebff;}#sk-container-id-4 input.sk-hidden--visually {border: 0;clip: rect(1px 1px 1px 1px);clip: rect(1px, 1px, 1px, 1px);height: 1px;margin: -1px;overflow: hidden;padding: 0;position: absolute;width: 1px;}#sk-container-id-4 div.sk-estimator {font-family: monospace;background-color: #f0f8ff;border: 1px dotted black;border-radius: 0.25em;box-sizing: border-box;margin-bottom: 0.5em;}#sk-container-id-4 div.sk-estimator:hover {background-color: #d4ebff;}#sk-container-id-4 div.sk-parallel-item::after {content: \"\";width: 100%;border-bottom: 1px solid gray;flex-grow: 1;}#sk-container-id-4 div.sk-label:hover label.sk-toggleable__label {background-color: #d4ebff;}#sk-container-id-4 div.sk-serial::before {content: \"\";position: absolute;border-left: 1px solid gray;box-sizing: border-box;top: 0;bottom: 0;left: 50%;z-index: 0;}#sk-container-id-4 div.sk-serial {display: flex;flex-direction: column;align-items: center;background-color: white;padding-right: 0.2em;padding-left: 0.2em;position: relative;}#sk-container-id-4 div.sk-item {position: relative;z-index: 1;}#sk-container-id-4 div.sk-parallel {display: flex;align-items: stretch;justify-content: center;background-color: white;position: relative;}#sk-container-id-4 div.sk-item::before, #sk-container-id-4 div.sk-parallel-item::before {content: \"\";position: absolute;border-left: 1px solid gray;box-sizing: border-box;top: 0;bottom: 0;left: 50%;z-index: -1;}#sk-container-id-4 div.sk-parallel-item {display: flex;flex-direction: column;z-index: 1;position: relative;background-color: white;}#sk-container-id-4 div.sk-parallel-item:first-child::after {align-self: flex-end;width: 50%;}#sk-container-id-4 div.sk-parallel-item:last-child::after {align-self: flex-start;width: 50%;}#sk-container-id-4 div.sk-parallel-item:only-child::after {width: 0;}#sk-container-id-4 div.sk-dashed-wrapped {border: 1px dashed gray;margin: 0 0.4em 0.5em 0.4em;box-sizing: border-box;padding-bottom: 0.4em;background-color: white;}#sk-container-id-4 div.sk-label label {font-family: monospace;font-weight: bold;display: inline-block;line-height: 1.2em;}#sk-container-id-4 div.sk-label-container {text-align: center;}#sk-container-id-4 div.sk-container {/* jupyter's `normalize.less` sets `[hidden] { display: none; }` but bootstrap.min.css set `[hidden] { display: none !important; }` so we also need the `!important` here to be able to override the default hidden behavior on the sphinx rendered scikit-learn.org. See: https://github.com/scikit-learn/scikit-learn/issues/21755 */display: inline-block !important;position: relative;}#sk-container-id-4 div.sk-text-repr-fallback {display: none;}</style><div id=\"sk-container-id-4\" class=\"sk-top-container\"><div class=\"sk-text-repr-fallback\"><pre>RandomForestClassifier(random_state=42)</pre><b>In a Jupyter environment, please rerun this cell to show the HTML representation or trust the notebook. <br />On GitHub, the HTML representation is unable to render, please try loading this page with nbviewer.org.</b></div><div class=\"sk-container\" hidden><div class=\"sk-item\"><div class=\"sk-estimator sk-toggleable\"><input class=\"sk-toggleable__control sk-hidden--visually\" id=\"sk-estimator-id-4\" type=\"checkbox\" checked><label for=\"sk-estimator-id-4\" class=\"sk-toggleable__label sk-toggleable__label-arrow\">RandomForestClassifier</label><div class=\"sk-toggleable__content\"><pre>RandomForestClassifier(random_state=42)</pre></div></div></div></div></div>"
      ],
      "text/plain": [
       "RandomForestClassifier(random_state=42)"
      ]
     },
     "execution_count": 68,
     "metadata": {},
     "output_type": "execute_result"
    }
   ],
   "source": [
    "# Train the model\n",
    "rf_model.fit(X_train, y_train)"
   ]
  },
  {
   "cell_type": "code",
   "execution_count": 69,
   "id": "ed851560",
   "metadata": {},
   "outputs": [],
   "source": [
    "# Predict on the test set\n",
    "y_pred = rf_model.predict(X_test)"
   ]
  },
  {
   "cell_type": "code",
   "execution_count": 70,
   "id": "d11e58a7",
   "metadata": {},
   "outputs": [
    {
     "name": "stdout",
     "output_type": "stream",
     "text": [
      "Accuracy: 0.66\n",
      "Classification Report:\n",
      "                          precision    recall  f1-score   support\n",
      "\n",
      "   drunk_driver_involved       0.55      0.60      0.57      3873\n",
      "                   other       0.73      0.82      0.77      8614\n",
      "speeding_driver_involved       0.41      0.18      0.25      2458\n",
      "\n",
      "                accuracy                           0.66     14945\n",
      "               macro avg       0.56      0.53      0.53     14945\n",
      "            weighted avg       0.63      0.66      0.64     14945\n",
      "\n"
     ]
    }
   ],
   "source": [
    "# Calculate accuracy\n",
    "accuracy = accuracy_score(y_test, y_pred)\n",
    "print(f'Accuracy: {accuracy:.2f}')\n",
    "\n",
    "# Print classification report\n",
    "class_report = classification_report(y_test, y_pred)\n",
    "print('Classification Report:')\n",
    "print(class_report)\n"
   ]
  },
  {
   "cell_type": "code",
   "execution_count": 77,
   "id": "f0d58c65",
   "metadata": {},
   "outputs": [
    {
     "name": "stdout",
     "output_type": "stream",
     "text": [
      "[0.00590692 0.18700151 0.04006918 0.03578693 0.11977213 0.02643646\n",
      " 0.00869792 0.01331593 0.01900402 0.03402342 0.02449158 0.00679068\n",
      " 0.00625597 0.01958292 0.02301623 0.00620965 0.01322538 0.01187508\n",
      " 0.00479949 0.00503843 0.00878995 0.06246309 0.04488632 0.07623453\n",
      " 0.04827175 0.05130029 0.06842898 0.02832527]\n"
     ]
    }
   ],
   "source": [
    "importances = rf_model.feature_importances_\n",
    "print(importances)"
   ]
  },
  {
   "cell_type": "code",
   "execution_count": 79,
   "id": "e4b7a88d",
   "metadata": {},
   "outputs": [
    {
     "data": {
      "text/plain": [
       "Index(['fatals', 'age', 'permvit', 'deaths', 'month', 'pernotmvit', 've_total',\n",
       "       'is_ped_fatality', 'is_weekend', 'is_night', 'is_urban', 'is_inter',\n",
       "       'is_intsec', 'on_roadway', 'off_roadway', 'is_junc', 'not_junc',\n",
       "       'is_bike_fatality', 'is_hit_and_run', 'is_police_pursuit', 'is_ped',\n",
       "       'body_type', 'owner_reg', 'impact_loc', 'weather_cond', 'light_cond',\n",
       "       'road_type', 'deform_type'],\n",
       "      dtype='object')"
      ]
     },
     "execution_count": 79,
     "metadata": {},
     "output_type": "execute_result"
    }
   ],
   "source": [
    "X.columns"
   ]
  },
  {
   "cell_type": "code",
   "execution_count": 85,
   "id": "c81c828f",
   "metadata": {},
   "outputs": [
    {
     "name": "stdout",
     "output_type": "stream",
     "text": [
      "Indices in order of largest to smallest values: Index(['age', 'month', 'impact_loc', 'road_type', 'body_type', 'light_cond',\n",
      "       'weather_cond', 'owner_reg', 'permvit', 'deaths', 'is_night',\n",
      "       'deform_type', 'pernotmvit', 'is_urban', 'off_roadway', 'on_roadway',\n",
      "       'is_weekend', 'is_ped_fatality', 'not_junc', 'is_bike_fatality',\n",
      "       'is_ped', 've_total', 'is_inter', 'is_intsec', 'is_junc', 'fatals',\n",
      "       'is_police_pursuit', 'is_hit_and_run'],\n",
      "      dtype='object')\n"
     ]
    }
   ],
   "source": [
    "def get_sorted_indices(lst):\n",
    "    sorted_indices = sorted(range(len(lst)), key=lambda i: lst[i], reverse=True)\n",
    "    return sorted_indices\n",
    "\n",
    "# Example list of floating point values\n",
    "sorted_indices = get_sorted_indices(importances)\n",
    "\n",
    "print(\"Indices in order of largest to smallest values:\", X.columns[sorted_indices])\n"
   ]
  },
  {
   "cell_type": "code",
   "execution_count": 78,
   "id": "8e3fb044",
   "metadata": {},
   "outputs": [
    {
     "data": {
      "text/plain": [
       "28"
      ]
     },
     "execution_count": 78,
     "metadata": {},
     "output_type": "execute_result"
    }
   ],
   "source": [
    "len(importances)"
   ]
  },
  {
   "cell_type": "markdown",
   "id": "76817ed0",
   "metadata": {},
   "source": [
    "# Support Vector Machine Model"
   ]
  },
  {
   "cell_type": "code",
   "execution_count": 34,
   "id": "d147fdb8",
   "metadata": {},
   "outputs": [
    {
     "name": "stdout",
     "output_type": "stream",
     "text": [
      "SVC(kernel='linear', random_state=42)\n"
     ]
    }
   ],
   "source": [
    "# Initialize the SVM model\n",
    "svm_model = SVC(kernel='linear', random_state=42)\n",
    "print(svm_model)"
   ]
  },
  {
   "cell_type": "code",
   "execution_count": 35,
   "id": "41703108",
   "metadata": {},
   "outputs": [
    {
     "data": {
      "text/html": [
       "<style>#sk-container-id-2 {color: black;}#sk-container-id-2 pre{padding: 0;}#sk-container-id-2 div.sk-toggleable {background-color: white;}#sk-container-id-2 label.sk-toggleable__label {cursor: pointer;display: block;width: 100%;margin-bottom: 0;padding: 0.3em;box-sizing: border-box;text-align: center;}#sk-container-id-2 label.sk-toggleable__label-arrow:before {content: \"▸\";float: left;margin-right: 0.25em;color: #696969;}#sk-container-id-2 label.sk-toggleable__label-arrow:hover:before {color: black;}#sk-container-id-2 div.sk-estimator:hover label.sk-toggleable__label-arrow:before {color: black;}#sk-container-id-2 div.sk-toggleable__content {max-height: 0;max-width: 0;overflow: hidden;text-align: left;background-color: #f0f8ff;}#sk-container-id-2 div.sk-toggleable__content pre {margin: 0.2em;color: black;border-radius: 0.25em;background-color: #f0f8ff;}#sk-container-id-2 input.sk-toggleable__control:checked~div.sk-toggleable__content {max-height: 200px;max-width: 100%;overflow: auto;}#sk-container-id-2 input.sk-toggleable__control:checked~label.sk-toggleable__label-arrow:before {content: \"▾\";}#sk-container-id-2 div.sk-estimator input.sk-toggleable__control:checked~label.sk-toggleable__label {background-color: #d4ebff;}#sk-container-id-2 div.sk-label input.sk-toggleable__control:checked~label.sk-toggleable__label {background-color: #d4ebff;}#sk-container-id-2 input.sk-hidden--visually {border: 0;clip: rect(1px 1px 1px 1px);clip: rect(1px, 1px, 1px, 1px);height: 1px;margin: -1px;overflow: hidden;padding: 0;position: absolute;width: 1px;}#sk-container-id-2 div.sk-estimator {font-family: monospace;background-color: #f0f8ff;border: 1px dotted black;border-radius: 0.25em;box-sizing: border-box;margin-bottom: 0.5em;}#sk-container-id-2 div.sk-estimator:hover {background-color: #d4ebff;}#sk-container-id-2 div.sk-parallel-item::after {content: \"\";width: 100%;border-bottom: 1px solid gray;flex-grow: 1;}#sk-container-id-2 div.sk-label:hover label.sk-toggleable__label {background-color: #d4ebff;}#sk-container-id-2 div.sk-serial::before {content: \"\";position: absolute;border-left: 1px solid gray;box-sizing: border-box;top: 0;bottom: 0;left: 50%;z-index: 0;}#sk-container-id-2 div.sk-serial {display: flex;flex-direction: column;align-items: center;background-color: white;padding-right: 0.2em;padding-left: 0.2em;position: relative;}#sk-container-id-2 div.sk-item {position: relative;z-index: 1;}#sk-container-id-2 div.sk-parallel {display: flex;align-items: stretch;justify-content: center;background-color: white;position: relative;}#sk-container-id-2 div.sk-item::before, #sk-container-id-2 div.sk-parallel-item::before {content: \"\";position: absolute;border-left: 1px solid gray;box-sizing: border-box;top: 0;bottom: 0;left: 50%;z-index: -1;}#sk-container-id-2 div.sk-parallel-item {display: flex;flex-direction: column;z-index: 1;position: relative;background-color: white;}#sk-container-id-2 div.sk-parallel-item:first-child::after {align-self: flex-end;width: 50%;}#sk-container-id-2 div.sk-parallel-item:last-child::after {align-self: flex-start;width: 50%;}#sk-container-id-2 div.sk-parallel-item:only-child::after {width: 0;}#sk-container-id-2 div.sk-dashed-wrapped {border: 1px dashed gray;margin: 0 0.4em 0.5em 0.4em;box-sizing: border-box;padding-bottom: 0.4em;background-color: white;}#sk-container-id-2 div.sk-label label {font-family: monospace;font-weight: bold;display: inline-block;line-height: 1.2em;}#sk-container-id-2 div.sk-label-container {text-align: center;}#sk-container-id-2 div.sk-container {/* jupyter's `normalize.less` sets `[hidden] { display: none; }` but bootstrap.min.css set `[hidden] { display: none !important; }` so we also need the `!important` here to be able to override the default hidden behavior on the sphinx rendered scikit-learn.org. See: https://github.com/scikit-learn/scikit-learn/issues/21755 */display: inline-block !important;position: relative;}#sk-container-id-2 div.sk-text-repr-fallback {display: none;}</style><div id=\"sk-container-id-2\" class=\"sk-top-container\"><div class=\"sk-text-repr-fallback\"><pre>SVC(kernel=&#x27;linear&#x27;, random_state=42)</pre><b>In a Jupyter environment, please rerun this cell to show the HTML representation or trust the notebook. <br />On GitHub, the HTML representation is unable to render, please try loading this page with nbviewer.org.</b></div><div class=\"sk-container\" hidden><div class=\"sk-item\"><div class=\"sk-estimator sk-toggleable\"><input class=\"sk-toggleable__control sk-hidden--visually\" id=\"sk-estimator-id-2\" type=\"checkbox\" checked><label for=\"sk-estimator-id-2\" class=\"sk-toggleable__label sk-toggleable__label-arrow\">SVC</label><div class=\"sk-toggleable__content\"><pre>SVC(kernel=&#x27;linear&#x27;, random_state=42)</pre></div></div></div></div></div>"
      ],
      "text/plain": [
       "SVC(kernel='linear', random_state=42)"
      ]
     },
     "execution_count": 35,
     "metadata": {},
     "output_type": "execute_result"
    }
   ],
   "source": [
    "# Train the model\n",
    "svm_model.fit(X_train, y_train)"
   ]
  },
  {
   "cell_type": "code",
   "execution_count": 36,
   "id": "6b3a962a",
   "metadata": {},
   "outputs": [],
   "source": [
    "# Predict on the test set\n",
    "y_pred = svm_model.predict(X_test)"
   ]
  },
  {
   "cell_type": "code",
   "execution_count": 37,
   "id": "285ddf1c",
   "metadata": {},
   "outputs": [
    {
     "name": "stdout",
     "output_type": "stream",
     "text": [
      "Accuracy: 0.64\n",
      "Classification Report:\n",
      "                          precision    recall  f1-score   support\n",
      "\n",
      "   drunk_driver_involved       0.48      0.71      0.57      3873\n",
      "                   other       0.74      0.78      0.76      8614\n",
      "speeding_driver_involved       0.50      0.03      0.06      2458\n",
      "\n",
      "                accuracy                           0.64     14945\n",
      "               macro avg       0.57      0.51      0.46     14945\n",
      "            weighted avg       0.63      0.64      0.59     14945\n",
      "\n"
     ]
    }
   ],
   "source": [
    "# Calculate accuracy\n",
    "accuracy = accuracy_score(y_test, y_pred)\n",
    "print(f'Accuracy: {accuracy:.2f}')\n",
    "\n",
    "# Print classification report\n",
    "class_report = classification_report(y_test, y_pred)\n",
    "print('Classification Report:')\n",
    "print(class_report)"
   ]
  },
  {
   "cell_type": "markdown",
   "id": "4a0bc7c7",
   "metadata": {},
   "source": [
    "# Gradient Boosting Model"
   ]
  },
  {
   "cell_type": "code",
   "execution_count": 21,
   "id": "62a6bbc2",
   "metadata": {},
   "outputs": [],
   "source": [
    "# Initialize the label encoder\n",
    "label_encoder = LabelEncoder()"
   ]
  },
  {
   "cell_type": "code",
   "execution_count": 22,
   "id": "c12e1ad7",
   "metadata": {},
   "outputs": [],
   "source": [
    "# Fit and transform the target labels\n",
    "y_train_encoded = label_encoder.fit_transform(y_train)"
   ]
  },
  {
   "cell_type": "code",
   "execution_count": 23,
   "id": "f635f849",
   "metadata": {},
   "outputs": [
    {
     "data": {
      "text/plain": [
       "array([1, 0, 0, ..., 1, 0, 2])"
      ]
     },
     "execution_count": 23,
     "metadata": {},
     "output_type": "execute_result"
    }
   ],
   "source": [
    "y_train_encoded"
   ]
  },
  {
   "cell_type": "code",
   "execution_count": 24,
   "id": "128c7248",
   "metadata": {},
   "outputs": [],
   "source": [
    "# Fit and transform the target labels\n",
    "y_test_encoded = label_encoder.fit_transform(y_test)"
   ]
  },
  {
   "cell_type": "code",
   "execution_count": 25,
   "id": "deb7b23e",
   "metadata": {},
   "outputs": [
    {
     "data": {
      "text/plain": [
       "array([2, 1, 0, ..., 2, 0, 1])"
      ]
     },
     "execution_count": 25,
     "metadata": {},
     "output_type": "execute_result"
    }
   ],
   "source": [
    "y_test_encoded"
   ]
  },
  {
   "cell_type": "code",
   "execution_count": 61,
   "id": "237497a7",
   "metadata": {},
   "outputs": [
    {
     "name": "stdout",
     "output_type": "stream",
     "text": [
      "100%|██████████| 50/50 [02:22<00:00,  2.85s/trial, best loss: -0.0]\n",
      "Best hyperparameters: {'learning_rate': 0.13465232824084064, 'max_depth': 6.0, 'n_estimators': 190.0}\n"
     ]
    }
   ],
   "source": [
    "from hyperopt import hp, fmin, tpe\n",
    "\n",
    "# Define the hyperparameter search space\n",
    "space = {\n",
    "    'learning_rate': hp.loguniform('learning_rate', -5, 0),\n",
    "    'max_depth': hp.quniform('max_depth', 3, 10, 1),\n",
    "    'n_estimators': hp.quniform('n_estimators', 50, 300, 10),\n",
    "    # Add more hyperparameters to tune\n",
    "}\n",
    "\n",
    "def objective(params):\n",
    "    # Create and train XGBoost model\n",
    "    model = xgb.XGBClassifier(\n",
    "        learning_rate=params['learning_rate'],\n",
    "        max_depth=int(params['max_depth']),\n",
    "        n_estimators=int(params['n_estimators']),\n",
    "        # Initialize other hyperparameters\n",
    "    )\n",
    "    \n",
    "    model.fit(X_train, y_train_encoded)\n",
    "    \n",
    "    # Calculate a metric to minimize (e.g., negative validation accuracy)\n",
    "    val_accuracy = -model.score(X_test, y_test)\n",
    "    \n",
    "    return val_accuracy\n",
    "\n",
    "best = fmin(\n",
    "    fn=objective,\n",
    "    space=space,\n",
    "    algo=tpe.suggest,\n",
    "    max_evals=50,  # Number of iterations\n",
    "    # rstate=np.random.RandomState(42),  # Remove this line\n",
    ")\n",
    "\n",
    "\n",
    "print(\"Best hyperparameters:\", best)\n"
   ]
  },
  {
   "cell_type": "code",
   "execution_count": 41,
   "id": "78c3ad73",
   "metadata": {},
   "outputs": [],
   "source": [
    "# Initialize the XGBoost model\n",
    "xgb_model = xgb.XGBClassifier(objective=\"multi:softmax\", num_class=3, n_estimators=100, random_state=42)"
   ]
  },
  {
   "cell_type": "code",
   "execution_count": 34,
   "id": "c015bf54",
   "metadata": {},
   "outputs": [
    {
     "data": {
      "text/html": [
       "<style>#sk-container-id-3 {color: black;}#sk-container-id-3 pre{padding: 0;}#sk-container-id-3 div.sk-toggleable {background-color: white;}#sk-container-id-3 label.sk-toggleable__label {cursor: pointer;display: block;width: 100%;margin-bottom: 0;padding: 0.3em;box-sizing: border-box;text-align: center;}#sk-container-id-3 label.sk-toggleable__label-arrow:before {content: \"▸\";float: left;margin-right: 0.25em;color: #696969;}#sk-container-id-3 label.sk-toggleable__label-arrow:hover:before {color: black;}#sk-container-id-3 div.sk-estimator:hover label.sk-toggleable__label-arrow:before {color: black;}#sk-container-id-3 div.sk-toggleable__content {max-height: 0;max-width: 0;overflow: hidden;text-align: left;background-color: #f0f8ff;}#sk-container-id-3 div.sk-toggleable__content pre {margin: 0.2em;color: black;border-radius: 0.25em;background-color: #f0f8ff;}#sk-container-id-3 input.sk-toggleable__control:checked~div.sk-toggleable__content {max-height: 200px;max-width: 100%;overflow: auto;}#sk-container-id-3 input.sk-toggleable__control:checked~label.sk-toggleable__label-arrow:before {content: \"▾\";}#sk-container-id-3 div.sk-estimator input.sk-toggleable__control:checked~label.sk-toggleable__label {background-color: #d4ebff;}#sk-container-id-3 div.sk-label input.sk-toggleable__control:checked~label.sk-toggleable__label {background-color: #d4ebff;}#sk-container-id-3 input.sk-hidden--visually {border: 0;clip: rect(1px 1px 1px 1px);clip: rect(1px, 1px, 1px, 1px);height: 1px;margin: -1px;overflow: hidden;padding: 0;position: absolute;width: 1px;}#sk-container-id-3 div.sk-estimator {font-family: monospace;background-color: #f0f8ff;border: 1px dotted black;border-radius: 0.25em;box-sizing: border-box;margin-bottom: 0.5em;}#sk-container-id-3 div.sk-estimator:hover {background-color: #d4ebff;}#sk-container-id-3 div.sk-parallel-item::after {content: \"\";width: 100%;border-bottom: 1px solid gray;flex-grow: 1;}#sk-container-id-3 div.sk-label:hover label.sk-toggleable__label {background-color: #d4ebff;}#sk-container-id-3 div.sk-serial::before {content: \"\";position: absolute;border-left: 1px solid gray;box-sizing: border-box;top: 0;bottom: 0;left: 50%;z-index: 0;}#sk-container-id-3 div.sk-serial {display: flex;flex-direction: column;align-items: center;background-color: white;padding-right: 0.2em;padding-left: 0.2em;position: relative;}#sk-container-id-3 div.sk-item {position: relative;z-index: 1;}#sk-container-id-3 div.sk-parallel {display: flex;align-items: stretch;justify-content: center;background-color: white;position: relative;}#sk-container-id-3 div.sk-item::before, #sk-container-id-3 div.sk-parallel-item::before {content: \"\";position: absolute;border-left: 1px solid gray;box-sizing: border-box;top: 0;bottom: 0;left: 50%;z-index: -1;}#sk-container-id-3 div.sk-parallel-item {display: flex;flex-direction: column;z-index: 1;position: relative;background-color: white;}#sk-container-id-3 div.sk-parallel-item:first-child::after {align-self: flex-end;width: 50%;}#sk-container-id-3 div.sk-parallel-item:last-child::after {align-self: flex-start;width: 50%;}#sk-container-id-3 div.sk-parallel-item:only-child::after {width: 0;}#sk-container-id-3 div.sk-dashed-wrapped {border: 1px dashed gray;margin: 0 0.4em 0.5em 0.4em;box-sizing: border-box;padding-bottom: 0.4em;background-color: white;}#sk-container-id-3 div.sk-label label {font-family: monospace;font-weight: bold;display: inline-block;line-height: 1.2em;}#sk-container-id-3 div.sk-label-container {text-align: center;}#sk-container-id-3 div.sk-container {/* jupyter's `normalize.less` sets `[hidden] { display: none; }` but bootstrap.min.css set `[hidden] { display: none !important; }` so we also need the `!important` here to be able to override the default hidden behavior on the sphinx rendered scikit-learn.org. See: https://github.com/scikit-learn/scikit-learn/issues/21755 */display: inline-block !important;position: relative;}#sk-container-id-3 div.sk-text-repr-fallback {display: none;}</style><div id=\"sk-container-id-3\" class=\"sk-top-container\"><div class=\"sk-text-repr-fallback\"><pre>XGBClassifier(base_score=None, booster=None, callbacks=None,\n",
       "              colsample_bylevel=None, colsample_bynode=None,\n",
       "              colsample_bytree=None, early_stopping_rounds=None,\n",
       "              enable_categorical=False, eval_metric=None, feature_types=None,\n",
       "              gamma=None, gpu_id=None, grow_policy=None, importance_type=None,\n",
       "              interaction_constraints=None, learning_rate=None, max_bin=None,\n",
       "              max_cat_threshold=None, max_cat_to_onehot=None,\n",
       "              max_delta_step=None, max_depth=None, max_leaves=None,\n",
       "              min_child_weight=None, missing=nan, monotone_constraints=None,\n",
       "              n_estimators=100, n_jobs=None, num_parallel_tree=None,\n",
       "              objective=&#x27;multi:softmax&#x27;, predictor=None, ...)</pre><b>In a Jupyter environment, please rerun this cell to show the HTML representation or trust the notebook. <br />On GitHub, the HTML representation is unable to render, please try loading this page with nbviewer.org.</b></div><div class=\"sk-container\" hidden><div class=\"sk-item\"><div class=\"sk-estimator sk-toggleable\"><input class=\"sk-toggleable__control sk-hidden--visually\" id=\"sk-estimator-id-3\" type=\"checkbox\" checked><label for=\"sk-estimator-id-3\" class=\"sk-toggleable__label sk-toggleable__label-arrow\">XGBClassifier</label><div class=\"sk-toggleable__content\"><pre>XGBClassifier(base_score=None, booster=None, callbacks=None,\n",
       "              colsample_bylevel=None, colsample_bynode=None,\n",
       "              colsample_bytree=None, early_stopping_rounds=None,\n",
       "              enable_categorical=False, eval_metric=None, feature_types=None,\n",
       "              gamma=None, gpu_id=None, grow_policy=None, importance_type=None,\n",
       "              interaction_constraints=None, learning_rate=None, max_bin=None,\n",
       "              max_cat_threshold=None, max_cat_to_onehot=None,\n",
       "              max_delta_step=None, max_depth=None, max_leaves=None,\n",
       "              min_child_weight=None, missing=nan, monotone_constraints=None,\n",
       "              n_estimators=100, n_jobs=None, num_parallel_tree=None,\n",
       "              objective=&#x27;multi:softmax&#x27;, predictor=None, ...)</pre></div></div></div></div></div>"
      ],
      "text/plain": [
       "XGBClassifier(base_score=None, booster=None, callbacks=None,\n",
       "              colsample_bylevel=None, colsample_bynode=None,\n",
       "              colsample_bytree=None, early_stopping_rounds=None,\n",
       "              enable_categorical=False, eval_metric=None, feature_types=None,\n",
       "              gamma=None, gpu_id=None, grow_policy=None, importance_type=None,\n",
       "              interaction_constraints=None, learning_rate=None, max_bin=None,\n",
       "              max_cat_threshold=None, max_cat_to_onehot=None,\n",
       "              max_delta_step=None, max_depth=None, max_leaves=None,\n",
       "              min_child_weight=None, missing=nan, monotone_constraints=None,\n",
       "              n_estimators=100, n_jobs=None, num_parallel_tree=None,\n",
       "              objective='multi:softmax', predictor=None, ...)"
      ]
     },
     "execution_count": 34,
     "metadata": {},
     "output_type": "execute_result"
    }
   ],
   "source": [
    "xgb_model"
   ]
  },
  {
   "cell_type": "code",
   "execution_count": 42,
   "id": "1f48c0ee",
   "metadata": {},
   "outputs": [
    {
     "data": {
      "text/html": [
       "<style>#sk-container-id-6 {color: black;}#sk-container-id-6 pre{padding: 0;}#sk-container-id-6 div.sk-toggleable {background-color: white;}#sk-container-id-6 label.sk-toggleable__label {cursor: pointer;display: block;width: 100%;margin-bottom: 0;padding: 0.3em;box-sizing: border-box;text-align: center;}#sk-container-id-6 label.sk-toggleable__label-arrow:before {content: \"▸\";float: left;margin-right: 0.25em;color: #696969;}#sk-container-id-6 label.sk-toggleable__label-arrow:hover:before {color: black;}#sk-container-id-6 div.sk-estimator:hover label.sk-toggleable__label-arrow:before {color: black;}#sk-container-id-6 div.sk-toggleable__content {max-height: 0;max-width: 0;overflow: hidden;text-align: left;background-color: #f0f8ff;}#sk-container-id-6 div.sk-toggleable__content pre {margin: 0.2em;color: black;border-radius: 0.25em;background-color: #f0f8ff;}#sk-container-id-6 input.sk-toggleable__control:checked~div.sk-toggleable__content {max-height: 200px;max-width: 100%;overflow: auto;}#sk-container-id-6 input.sk-toggleable__control:checked~label.sk-toggleable__label-arrow:before {content: \"▾\";}#sk-container-id-6 div.sk-estimator input.sk-toggleable__control:checked~label.sk-toggleable__label {background-color: #d4ebff;}#sk-container-id-6 div.sk-label input.sk-toggleable__control:checked~label.sk-toggleable__label {background-color: #d4ebff;}#sk-container-id-6 input.sk-hidden--visually {border: 0;clip: rect(1px 1px 1px 1px);clip: rect(1px, 1px, 1px, 1px);height: 1px;margin: -1px;overflow: hidden;padding: 0;position: absolute;width: 1px;}#sk-container-id-6 div.sk-estimator {font-family: monospace;background-color: #f0f8ff;border: 1px dotted black;border-radius: 0.25em;box-sizing: border-box;margin-bottom: 0.5em;}#sk-container-id-6 div.sk-estimator:hover {background-color: #d4ebff;}#sk-container-id-6 div.sk-parallel-item::after {content: \"\";width: 100%;border-bottom: 1px solid gray;flex-grow: 1;}#sk-container-id-6 div.sk-label:hover label.sk-toggleable__label {background-color: #d4ebff;}#sk-container-id-6 div.sk-serial::before {content: \"\";position: absolute;border-left: 1px solid gray;box-sizing: border-box;top: 0;bottom: 0;left: 50%;z-index: 0;}#sk-container-id-6 div.sk-serial {display: flex;flex-direction: column;align-items: center;background-color: white;padding-right: 0.2em;padding-left: 0.2em;position: relative;}#sk-container-id-6 div.sk-item {position: relative;z-index: 1;}#sk-container-id-6 div.sk-parallel {display: flex;align-items: stretch;justify-content: center;background-color: white;position: relative;}#sk-container-id-6 div.sk-item::before, #sk-container-id-6 div.sk-parallel-item::before {content: \"\";position: absolute;border-left: 1px solid gray;box-sizing: border-box;top: 0;bottom: 0;left: 50%;z-index: -1;}#sk-container-id-6 div.sk-parallel-item {display: flex;flex-direction: column;z-index: 1;position: relative;background-color: white;}#sk-container-id-6 div.sk-parallel-item:first-child::after {align-self: flex-end;width: 50%;}#sk-container-id-6 div.sk-parallel-item:last-child::after {align-self: flex-start;width: 50%;}#sk-container-id-6 div.sk-parallel-item:only-child::after {width: 0;}#sk-container-id-6 div.sk-dashed-wrapped {border: 1px dashed gray;margin: 0 0.4em 0.5em 0.4em;box-sizing: border-box;padding-bottom: 0.4em;background-color: white;}#sk-container-id-6 div.sk-label label {font-family: monospace;font-weight: bold;display: inline-block;line-height: 1.2em;}#sk-container-id-6 div.sk-label-container {text-align: center;}#sk-container-id-6 div.sk-container {/* jupyter's `normalize.less` sets `[hidden] { display: none; }` but bootstrap.min.css set `[hidden] { display: none !important; }` so we also need the `!important` here to be able to override the default hidden behavior on the sphinx rendered scikit-learn.org. See: https://github.com/scikit-learn/scikit-learn/issues/21755 */display: inline-block !important;position: relative;}#sk-container-id-6 div.sk-text-repr-fallback {display: none;}</style><div id=\"sk-container-id-6\" class=\"sk-top-container\"><div class=\"sk-text-repr-fallback\"><pre>XGBClassifier(base_score=None, booster=None, callbacks=None,\n",
       "              colsample_bylevel=None, colsample_bynode=None,\n",
       "              colsample_bytree=None, early_stopping_rounds=None,\n",
       "              enable_categorical=False, eval_metric=None, feature_types=None,\n",
       "              gamma=None, gpu_id=None, grow_policy=None, importance_type=None,\n",
       "              interaction_constraints=None, learning_rate=None, max_bin=None,\n",
       "              max_cat_threshold=None, max_cat_to_onehot=None,\n",
       "              max_delta_step=None, max_depth=None, max_leaves=None,\n",
       "              min_child_weight=None, missing=nan, monotone_constraints=None,\n",
       "              n_estimators=100, n_jobs=None, num_class=3,\n",
       "              num_parallel_tree=None, objective=&#x27;multi:softmax&#x27;, ...)</pre><b>In a Jupyter environment, please rerun this cell to show the HTML representation or trust the notebook. <br />On GitHub, the HTML representation is unable to render, please try loading this page with nbviewer.org.</b></div><div class=\"sk-container\" hidden><div class=\"sk-item\"><div class=\"sk-estimator sk-toggleable\"><input class=\"sk-toggleable__control sk-hidden--visually\" id=\"sk-estimator-id-6\" type=\"checkbox\" checked><label for=\"sk-estimator-id-6\" class=\"sk-toggleable__label sk-toggleable__label-arrow\">XGBClassifier</label><div class=\"sk-toggleable__content\"><pre>XGBClassifier(base_score=None, booster=None, callbacks=None,\n",
       "              colsample_bylevel=None, colsample_bynode=None,\n",
       "              colsample_bytree=None, early_stopping_rounds=None,\n",
       "              enable_categorical=False, eval_metric=None, feature_types=None,\n",
       "              gamma=None, gpu_id=None, grow_policy=None, importance_type=None,\n",
       "              interaction_constraints=None, learning_rate=None, max_bin=None,\n",
       "              max_cat_threshold=None, max_cat_to_onehot=None,\n",
       "              max_delta_step=None, max_depth=None, max_leaves=None,\n",
       "              min_child_weight=None, missing=nan, monotone_constraints=None,\n",
       "              n_estimators=100, n_jobs=None, num_class=3,\n",
       "              num_parallel_tree=None, objective=&#x27;multi:softmax&#x27;, ...)</pre></div></div></div></div></div>"
      ],
      "text/plain": [
       "XGBClassifier(base_score=None, booster=None, callbacks=None,\n",
       "              colsample_bylevel=None, colsample_bynode=None,\n",
       "              colsample_bytree=None, early_stopping_rounds=None,\n",
       "              enable_categorical=False, eval_metric=None, feature_types=None,\n",
       "              gamma=None, gpu_id=None, grow_policy=None, importance_type=None,\n",
       "              interaction_constraints=None, learning_rate=None, max_bin=None,\n",
       "              max_cat_threshold=None, max_cat_to_onehot=None,\n",
       "              max_delta_step=None, max_depth=None, max_leaves=None,\n",
       "              min_child_weight=None, missing=nan, monotone_constraints=None,\n",
       "              n_estimators=100, n_jobs=None, num_class=3,\n",
       "              num_parallel_tree=None, objective='multi:softmax', ...)"
      ]
     },
     "execution_count": 42,
     "metadata": {},
     "output_type": "execute_result"
    }
   ],
   "source": [
    "# Train the model\n",
    "xgb_model.fit(X_train, y_train_encoded)"
   ]
  },
  {
   "cell_type": "code",
   "execution_count": 43,
   "id": "6b36c7da",
   "metadata": {},
   "outputs": [],
   "source": [
    "# Predict on the test set\n",
    "y_pred = xgb_model.predict(X_test)"
   ]
  },
  {
   "cell_type": "code",
   "execution_count": 49,
   "id": "2ca04623",
   "metadata": {},
   "outputs": [
    {
     "data": {
      "text/plain": [
       "array([0, 1, 0, ..., 0, 0, 1])"
      ]
     },
     "execution_count": 49,
     "metadata": {},
     "output_type": "execute_result"
    }
   ],
   "source": [
    "y_pred"
   ]
  },
  {
   "cell_type": "code",
   "execution_count": 50,
   "id": "d42baa18",
   "metadata": {},
   "outputs": [
    {
     "data": {
      "text/plain": [
       "2570     speeding_driver_involved\n",
       "11362                       other\n",
       "505         drunk_driver_involved\n",
       "8967        drunk_driver_involved\n",
       "38683    speeding_driver_involved\n",
       "                   ...           \n",
       "8641                        other\n",
       "15727    speeding_driver_involved\n",
       "36799    speeding_driver_involved\n",
       "28963       drunk_driver_involved\n",
       "7481                        other\n",
       "Name: driver_factor, Length: 14945, dtype: object"
      ]
     },
     "execution_count": 50,
     "metadata": {},
     "output_type": "execute_result"
    }
   ],
   "source": [
    "y_test"
   ]
  },
  {
   "cell_type": "code",
   "execution_count": 47,
   "id": "21467d8e",
   "metadata": {},
   "outputs": [],
   "source": [
    "from sklearn.metrics import f1_score\n",
    "\n",
    "# Convert numeric labels to strings in y_pred\n",
    "y_pred_str = [str(label) for label in y_pred]\n",
    "\n",
    "# Calculate macro F1 score using string labels\n",
    "macro_f1 = f1_score(y_test, y_pred_str, average=\"macro\")"
   ]
  },
  {
   "cell_type": "code",
   "execution_count": 48,
   "id": "e4500a82",
   "metadata": {},
   "outputs": [
    {
     "data": {
      "text/plain": [
       "0.0"
      ]
     },
     "execution_count": 48,
     "metadata": {},
     "output_type": "execute_result"
    }
   ],
   "source": [
    "macro_f1"
   ]
  },
  {
   "cell_type": "code",
   "execution_count": 54,
   "id": "8afd741b",
   "metadata": {},
   "outputs": [],
   "source": [
    "from sklearn.metrics import f1_score\n",
    "from sklearn.preprocessing import LabelEncoder\n",
    "\n",
    "# Convert string labels in y_test to numeric labels\n",
    "label_encoder = LabelEncoder()\n",
    "y_test_numeric = label_encoder.fit_transform(y_test)\n",
    "\n",
    "# Calculate macro F1 score\n",
    "macro_f1 = f1_score(y_test_numeric, y_pred, average=\"macro\")\n"
   ]
  },
  {
   "cell_type": "code",
   "execution_count": 55,
   "id": "d08f0f0a",
   "metadata": {},
   "outputs": [
    {
     "data": {
      "text/plain": [
       "0.5588870565434837"
      ]
     },
     "execution_count": 55,
     "metadata": {},
     "output_type": "execute_result"
    }
   ],
   "source": [
    "macro_f1"
   ]
  },
  {
   "cell_type": "code",
   "execution_count": 45,
   "id": "946f0179",
   "metadata": {},
   "outputs": [
    {
     "name": "stdout",
     "output_type": "stream",
     "text": [
      "Accuracy: 0.68\n",
      "Classification Report:\n",
      "              precision    recall  f1-score   support\n",
      "\n",
      "           0       0.56      0.64      0.60      3873\n",
      "           1       0.75      0.83      0.79      8614\n",
      "           2       0.48      0.21      0.29      2458\n",
      "\n",
      "    accuracy                           0.68     14945\n",
      "   macro avg       0.60      0.56      0.56     14945\n",
      "weighted avg       0.66      0.68      0.66     14945\n",
      "\n"
     ]
    }
   ],
   "source": [
    "# Calculate accuracy\n",
    "accuracy = accuracy_score(y_test_encoded, y_pred)\n",
    "print(f'Accuracy: {accuracy:.2f}')\n",
    "\n",
    "# Print classification report\n",
    "class_report = classification_report(y_test_encoded, y_pred)\n",
    "print('Classification Report:')\n",
    "print(class_report)"
   ]
  },
  {
   "cell_type": "code",
   "execution_count": 31,
   "id": "73680bbe",
   "metadata": {},
   "outputs": [],
   "source": [
    "def get_columns_by_feature_importance(model: RandomForestClassifier, X: pd.DataFrame) -> np.ndarray:\n",
    "    \"\"\"\n",
    "    Get column names sorted by feature importance based on a RandomForestClassifier model.\n",
    "\n",
    "    Parameters:\n",
    "        model (RandomForestClassifier): The trained RandomForestClassifier model.\n",
    "        X (pd.DataFrame): The input DataFrame containing features.\n",
    "\n",
    "    Returns:\n",
    "        np.ndarray: An array of column names sorted by feature importance.\n",
    "    \"\"\"\n",
    "    importances = model.feature_importances_\n",
    "    sorted_indices = sorted(range(len(importances)), key=lambda i: importances[i], reverse=True)\n",
    "\n",
    "    return X.columns[sorted_indices]"
   ]
  },
  {
   "cell_type": "code",
   "execution_count": 32,
   "id": "13f94c3c",
   "metadata": {},
   "outputs": [
    {
     "data": {
      "text/plain": [
       "Index(['deaths', 'is_night', 'off_roadway', 'is_police_pursuit',\n",
       "       'is_hit_and_run', 'light_cond', 'is_weekend', 'age', 'is_inter',\n",
       "       'road_type', 'is_ped', 'deform_type', 'body_type', 'weather_cond',\n",
       "       'is_ped_fatality', 'owner_reg', 'permvit', 'impact_loc', 'not_junc',\n",
       "       'is_urban', 'is_junc', 'on_roadway', 'fatals', 'is_intsec', 've_total',\n",
       "       'month', 'pernotmvit', 'is_bike_fatality'],\n",
       "      dtype='object')"
      ]
     },
     "execution_count": 32,
     "metadata": {},
     "output_type": "execute_result"
    }
   ],
   "source": [
    "get_columns_by_feature_importance(model=xgb_model, X=X)"
   ]
  },
  {
   "cell_type": "markdown",
   "id": "a8d02ca0",
   "metadata": {},
   "source": [
    "# Neural Network Model"
   ]
  },
  {
   "cell_type": "code",
   "execution_count": 100,
   "id": "6bf3c0fd",
   "metadata": {},
   "outputs": [],
   "source": [
    "import pandas as pd\n",
    "import numpy as np\n",
    "from sklearn.model_selection import train_test_split\n",
    "from sklearn.preprocessing import StandardScaler\n",
    "from keras.models import Sequential\n",
    "from keras.layers import Dense\n",
    "from keras.utils import to_categorical\n",
    "from sklearn.metrics import accuracy_score, classification_report"
   ]
  },
  {
   "cell_type": "code",
   "execution_count": 101,
   "id": "b828644b",
   "metadata": {},
   "outputs": [],
   "source": [
    "# Convert target labels to numerical values\n",
    "label_mapping = {'speeding_driver_involved': 0, 'drunk_driver_involved': 1, 'other': 2}\n",
    "y = y.map(label_mapping)\n",
    "\n",
    "# Split the data into train and test sets\n",
    "X_train, X_test, y_train, y_test = train_test_split(X, y, test_size=.33, random_state=125)"
   ]
  },
  {
   "cell_type": "code",
   "execution_count": 102,
   "id": "6277c200",
   "metadata": {},
   "outputs": [],
   "source": [
    "# Standardize features\n",
    "scaler = StandardScaler()\n",
    "X_train_scaled = scaler.fit_transform(X_train)\n",
    "X_test_scaled = scaler.transform(X_test)"
   ]
  },
  {
   "cell_type": "code",
   "execution_count": 103,
   "id": "a71be737",
   "metadata": {},
   "outputs": [],
   "source": [
    "# Convert target labels to categorical format\n",
    "y_train_categorical = to_categorical(y_train)\n",
    "y_test_categorical = to_categorical(y_test)"
   ]
  },
  {
   "cell_type": "code",
   "execution_count": 104,
   "id": "f1180ab5",
   "metadata": {},
   "outputs": [],
   "source": [
    "# Build the neural network model\n",
    "model = Sequential()\n",
    "model.add(Dense(128, activation='relu', input_shape=(X_train_scaled.shape[1],)))\n",
    "model.add(Dense(64, activation='relu'))\n",
    "model.add(Dense(3, activation='softmax'))"
   ]
  },
  {
   "cell_type": "code",
   "execution_count": null,
   "id": "e4aa6ccb",
   "metadata": {},
   "outputs": [],
   "source": []
  },
  {
   "cell_type": "code",
   "execution_count": 124,
   "id": "4fb48a3e",
   "metadata": {},
   "outputs": [
    {
     "name": "stderr",
     "output_type": "stream",
     "text": [
      "WARNING:absl:`lr` is deprecated in Keras optimizer, please use `learning_rate` or use the legacy optimizer, e.g.,tf.keras.optimizers.legacy.Adam.\n"
     ]
    },
    {
     "name": "stdout",
     "output_type": "stream",
     "text": [
      "Epoch 1/100\n",
      "380/380 [==============================] - 2s 3ms/step - loss: 1.0729 - accuracy: 0.5514 - val_loss: 0.7797 - val_accuracy: 0.6677 - lr: 0.0010\n",
      "Epoch 2/100\n",
      "380/380 [==============================] - 1s 3ms/step - loss: 0.8421 - accuracy: 0.6293 - val_loss: 0.7716 - val_accuracy: 0.6680 - lr: 0.0010\n",
      "Epoch 3/100\n",
      "380/380 [==============================] - 1s 3ms/step - loss: 0.8155 - accuracy: 0.6419 - val_loss: 0.7644 - val_accuracy: 0.6711 - lr: 0.0010\n",
      "Epoch 4/100\n",
      "380/380 [==============================] - 1s 3ms/step - loss: 0.8013 - accuracy: 0.6505 - val_loss: 0.7612 - val_accuracy: 0.6731 - lr: 0.0010\n",
      "Epoch 5/100\n",
      "380/380 [==============================] - 1s 3ms/step - loss: 0.7939 - accuracy: 0.6553 - val_loss: 0.7572 - val_accuracy: 0.6726 - lr: 0.0010\n",
      "Epoch 6/100\n",
      "380/380 [==============================] - 1s 3ms/step - loss: 0.7900 - accuracy: 0.6546 - val_loss: 0.7583 - val_accuracy: 0.6700 - lr: 0.0010\n",
      "Epoch 7/100\n",
      "380/380 [==============================] - 1s 3ms/step - loss: 0.7890 - accuracy: 0.6594 - val_loss: 0.7573 - val_accuracy: 0.6703 - lr: 0.0010\n",
      "Epoch 8/100\n",
      "380/380 [==============================] - 1s 3ms/step - loss: 0.7842 - accuracy: 0.6604 - val_loss: 0.7564 - val_accuracy: 0.6729 - lr: 0.0010\n",
      "Epoch 9/100\n",
      "380/380 [==============================] - 1s 3ms/step - loss: 0.7855 - accuracy: 0.6585 - val_loss: 0.7512 - val_accuracy: 0.6726 - lr: 0.0010\n",
      "Epoch 10/100\n",
      "380/380 [==============================] - 1s 3ms/step - loss: 0.7816 - accuracy: 0.6584 - val_loss: 0.7520 - val_accuracy: 0.6751 - lr: 0.0010\n",
      "Epoch 11/100\n",
      "380/380 [==============================] - 1s 3ms/step - loss: 0.7837 - accuracy: 0.6601 - val_loss: 0.7538 - val_accuracy: 0.6734 - lr: 0.0010\n",
      "Epoch 12/100\n",
      "380/380 [==============================] - 1s 3ms/step - loss: 0.7803 - accuracy: 0.6611 - val_loss: 0.7570 - val_accuracy: 0.6698 - lr: 0.0010\n",
      "Epoch 13/100\n",
      "380/380 [==============================] - 1s 3ms/step - loss: 0.7806 - accuracy: 0.6615 - val_loss: 0.7504 - val_accuracy: 0.6729 - lr: 0.0010\n",
      "Epoch 14/100\n",
      "380/380 [==============================] - 1s 3ms/step - loss: 0.7774 - accuracy: 0.6608 - val_loss: 0.7518 - val_accuracy: 0.6728 - lr: 0.0010\n",
      "Epoch 15/100\n",
      "380/380 [==============================] - 1s 3ms/step - loss: 0.7776 - accuracy: 0.6611 - val_loss: 0.7489 - val_accuracy: 0.6739 - lr: 0.0010\n",
      "Epoch 16/100\n",
      "380/380 [==============================] - 1s 3ms/step - loss: 0.7751 - accuracy: 0.6648 - val_loss: 0.7499 - val_accuracy: 0.6728 - lr: 0.0010\n",
      "Epoch 17/100\n",
      "380/380 [==============================] - 1s 3ms/step - loss: 0.7750 - accuracy: 0.6661 - val_loss: 0.7494 - val_accuracy: 0.6716 - lr: 0.0010\n",
      "Epoch 18/100\n",
      "380/380 [==============================] - 1s 3ms/step - loss: 0.7737 - accuracy: 0.6637 - val_loss: 0.7504 - val_accuracy: 0.6729 - lr: 0.0010\n",
      "Epoch 19/100\n",
      "380/380 [==============================] - 1s 3ms/step - loss: 0.7726 - accuracy: 0.6653 - val_loss: 0.7495 - val_accuracy: 0.6705 - lr: 0.0010\n",
      "Epoch 20/100\n",
      "380/380 [==============================] - 1s 3ms/step - loss: 0.7728 - accuracy: 0.6670 - val_loss: 0.7500 - val_accuracy: 0.6711 - lr: 0.0010\n",
      "Epoch 21/100\n",
      "380/380 [==============================] - 1s 3ms/step - loss: 0.7692 - accuracy: 0.6637 - val_loss: 0.7484 - val_accuracy: 0.6733 - lr: 2.0000e-04\n",
      "Epoch 22/100\n",
      "380/380 [==============================] - 1s 3ms/step - loss: 0.7691 - accuracy: 0.6657 - val_loss: 0.7478 - val_accuracy: 0.6746 - lr: 2.0000e-04\n",
      "Epoch 23/100\n",
      "380/380 [==============================] - 1s 3ms/step - loss: 0.7678 - accuracy: 0.6690 - val_loss: 0.7476 - val_accuracy: 0.6742 - lr: 2.0000e-04\n",
      "Epoch 24/100\n",
      "380/380 [==============================] - 1s 3ms/step - loss: 0.7638 - accuracy: 0.6664 - val_loss: 0.7477 - val_accuracy: 0.6728 - lr: 2.0000e-04\n",
      "Epoch 25/100\n",
      "380/380 [==============================] - 1s 3ms/step - loss: 0.7664 - accuracy: 0.6695 - val_loss: 0.7476 - val_accuracy: 0.6733 - lr: 2.0000e-04\n",
      "Epoch 26/100\n",
      "380/380 [==============================] - 1s 3ms/step - loss: 0.7651 - accuracy: 0.6696 - val_loss: 0.7473 - val_accuracy: 0.6723 - lr: 2.0000e-04\n",
      "Epoch 27/100\n",
      "380/380 [==============================] - 1s 3ms/step - loss: 0.7645 - accuracy: 0.6689 - val_loss: 0.7479 - val_accuracy: 0.6738 - lr: 2.0000e-04\n",
      "Epoch 28/100\n",
      "380/380 [==============================] - 1s 3ms/step - loss: 0.7663 - accuracy: 0.6669 - val_loss: 0.7473 - val_accuracy: 0.6746 - lr: 2.0000e-04\n",
      "Epoch 29/100\n",
      "380/380 [==============================] - 1s 3ms/step - loss: 0.7604 - accuracy: 0.6708 - val_loss: 0.7478 - val_accuracy: 0.6736 - lr: 2.0000e-04\n",
      "Epoch 30/100\n",
      "380/380 [==============================] - 1s 3ms/step - loss: 0.7628 - accuracy: 0.6690 - val_loss: 0.7477 - val_accuracy: 0.6751 - lr: 2.0000e-04\n",
      "Epoch 31/100\n",
      "380/380 [==============================] - 1s 3ms/step - loss: 0.7623 - accuracy: 0.6712 - val_loss: 0.7473 - val_accuracy: 0.6749 - lr: 2.0000e-04\n",
      "Epoch 32/100\n",
      "380/380 [==============================] - 1s 3ms/step - loss: 0.7602 - accuracy: 0.6707 - val_loss: 0.7473 - val_accuracy: 0.6749 - lr: 4.0000e-05\n",
      "Epoch 33/100\n",
      "380/380 [==============================] - 1s 3ms/step - loss: 0.7623 - accuracy: 0.6697 - val_loss: 0.7470 - val_accuracy: 0.6759 - lr: 4.0000e-05\n",
      "Epoch 34/100\n",
      "380/380 [==============================] - 1s 3ms/step - loss: 0.7595 - accuracy: 0.6685 - val_loss: 0.7469 - val_accuracy: 0.6764 - lr: 4.0000e-05\n",
      "Epoch 35/100\n",
      "380/380 [==============================] - 1s 3ms/step - loss: 0.7598 - accuracy: 0.6711 - val_loss: 0.7471 - val_accuracy: 0.6757 - lr: 4.0000e-05\n",
      "Epoch 36/100\n",
      "380/380 [==============================] - 1s 3ms/step - loss: 0.7617 - accuracy: 0.6705 - val_loss: 0.7471 - val_accuracy: 0.6749 - lr: 4.0000e-05\n",
      "Epoch 37/100\n",
      "380/380 [==============================] - 1s 3ms/step - loss: 0.7614 - accuracy: 0.6716 - val_loss: 0.7470 - val_accuracy: 0.6756 - lr: 4.0000e-05\n",
      "Epoch 38/100\n",
      "380/380 [==============================] - 1s 3ms/step - loss: 0.7618 - accuracy: 0.6706 - val_loss: 0.7469 - val_accuracy: 0.6761 - lr: 4.0000e-05\n",
      "Epoch 39/100\n",
      "380/380 [==============================] - 1s 3ms/step - loss: 0.7592 - accuracy: 0.6700 - val_loss: 0.7468 - val_accuracy: 0.6746 - lr: 4.0000e-05\n",
      "Epoch 40/100\n",
      "380/380 [==============================] - 1s 3ms/step - loss: 0.7613 - accuracy: 0.6683 - val_loss: 0.7468 - val_accuracy: 0.6752 - lr: 4.0000e-05\n",
      "Epoch 41/100\n",
      "380/380 [==============================] - 1s 3ms/step - loss: 0.7614 - accuracy: 0.6717 - val_loss: 0.7467 - val_accuracy: 0.6756 - lr: 4.0000e-05\n",
      "Epoch 42/100\n",
      "380/380 [==============================] - 1s 3ms/step - loss: 0.7629 - accuracy: 0.6705 - val_loss: 0.7467 - val_accuracy: 0.6761 - lr: 4.0000e-05\n",
      "Epoch 43/100\n",
      "380/380 [==============================] - 1s 3ms/step - loss: 0.7597 - accuracy: 0.6716 - val_loss: 0.7468 - val_accuracy: 0.6766 - lr: 4.0000e-05\n",
      "Epoch 44/100\n",
      "380/380 [==============================] - 1s 3ms/step - loss: 0.7628 - accuracy: 0.6698 - val_loss: 0.7469 - val_accuracy: 0.6767 - lr: 4.0000e-05\n",
      "Epoch 45/100\n",
      "380/380 [==============================] - 1s 3ms/step - loss: 0.7596 - accuracy: 0.6718 - val_loss: 0.7469 - val_accuracy: 0.6759 - lr: 8.0000e-06\n",
      "Epoch 46/100\n",
      "380/380 [==============================] - 1s 3ms/step - loss: 0.7597 - accuracy: 0.6671 - val_loss: 0.7468 - val_accuracy: 0.6764 - lr: 8.0000e-06\n",
      "Epoch 47/100\n",
      "380/380 [==============================] - 1s 3ms/step - loss: 0.7589 - accuracy: 0.6704 - val_loss: 0.7467 - val_accuracy: 0.6757 - lr: 8.0000e-06\n",
      "Epoch 48/100\n",
      "380/380 [==============================] - 1s 3ms/step - loss: 0.7605 - accuracy: 0.6722 - val_loss: 0.7467 - val_accuracy: 0.6761 - lr: 8.0000e-06\n",
      "Epoch 49/100\n",
      "380/380 [==============================] - 1s 3ms/step - loss: 0.7611 - accuracy: 0.6697 - val_loss: 0.7467 - val_accuracy: 0.6762 - lr: 8.0000e-06\n",
      "Epoch 50/100\n",
      "380/380 [==============================] - 1s 3ms/step - loss: 0.7593 - accuracy: 0.6704 - val_loss: 0.7468 - val_accuracy: 0.6766 - lr: 1.6000e-06\n",
      "Epoch 51/100\n",
      "380/380 [==============================] - 1s 3ms/step - loss: 0.7608 - accuracy: 0.6702 - val_loss: 0.7468 - val_accuracy: 0.6761 - lr: 1.6000e-06\n",
      "Epoch 52/100\n",
      "380/380 [==============================] - 1s 3ms/step - loss: 0.7610 - accuracy: 0.6697 - val_loss: 0.7468 - val_accuracy: 0.6756 - lr: 1.6000e-06\n",
      "Epoch 53/100\n",
      "380/380 [==============================] - 1s 3ms/step - loss: 0.7565 - accuracy: 0.6720 - val_loss: 0.7468 - val_accuracy: 0.6764 - lr: 1.6000e-06\n",
      "Epoch 54/100\n",
      "380/380 [==============================] - 1s 3ms/step - loss: 0.7594 - accuracy: 0.6699 - val_loss: 0.7469 - val_accuracy: 0.6761 - lr: 1.6000e-06\n",
      "Epoch 55/100\n",
      "380/380 [==============================] - 1s 3ms/step - loss: 0.7606 - accuracy: 0.6723 - val_loss: 0.7466 - val_accuracy: 0.6769 - lr: 1.0000e-06\n",
      "Epoch 56/100\n",
      "380/380 [==============================] - 1s 3ms/step - loss: 0.7596 - accuracy: 0.6723 - val_loss: 0.7469 - val_accuracy: 0.6764 - lr: 1.0000e-06\n",
      "Epoch 57/100\n",
      "380/380 [==============================] - 1s 3ms/step - loss: 0.7619 - accuracy: 0.6697 - val_loss: 0.7468 - val_accuracy: 0.6761 - lr: 1.0000e-06\n",
      "Epoch 58/100\n",
      "380/380 [==============================] - 1s 3ms/step - loss: 0.7599 - accuracy: 0.6687 - val_loss: 0.7467 - val_accuracy: 0.6775 - lr: 1.0000e-06\n",
      "Epoch 59/100\n",
      "380/380 [==============================] - 1s 3ms/step - loss: 0.7618 - accuracy: 0.6715 - val_loss: 0.7468 - val_accuracy: 0.6769 - lr: 1.0000e-06\n",
      "Epoch 60/100\n",
      "380/380 [==============================] - 1s 3ms/step - loss: 0.7609 - accuracy: 0.6716 - val_loss: 0.7467 - val_accuracy: 0.6764 - lr: 1.0000e-06\n",
      "Epoch 61/100\n",
      "380/380 [==============================] - 1s 3ms/step - loss: 0.7620 - accuracy: 0.6711 - val_loss: 0.7467 - val_accuracy: 0.6762 - lr: 1.0000e-06\n",
      "Epoch 62/100\n",
      "380/380 [==============================] - 1s 3ms/step - loss: 0.7599 - accuracy: 0.6700 - val_loss: 0.7469 - val_accuracy: 0.6769 - lr: 1.0000e-06\n",
      "Epoch 63/100\n",
      "380/380 [==============================] - 1s 3ms/step - loss: 0.7611 - accuracy: 0.6694 - val_loss: 0.7468 - val_accuracy: 0.6766 - lr: 1.0000e-06\n",
      "Epoch 64/100\n",
      "380/380 [==============================] - 1s 3ms/step - loss: 0.7609 - accuracy: 0.6709 - val_loss: 0.7468 - val_accuracy: 0.6761 - lr: 1.0000e-06\n",
      "Epoch 65/100\n",
      "380/380 [==============================] - 1s 3ms/step - loss: 0.7586 - accuracy: 0.6699 - val_loss: 0.7466 - val_accuracy: 0.6769 - lr: 1.0000e-06\n",
      "Epoch 66/100\n",
      "380/380 [==============================] - 1s 3ms/step - loss: 0.7613 - accuracy: 0.6707 - val_loss: 0.7467 - val_accuracy: 0.6764 - lr: 1.0000e-06\n",
      "Epoch 67/100\n",
      "380/380 [==============================] - 1s 3ms/step - loss: 0.7595 - accuracy: 0.6719 - val_loss: 0.7468 - val_accuracy: 0.6764 - lr: 1.0000e-06\n",
      "Epoch 68/100\n",
      "380/380 [==============================] - 1s 3ms/step - loss: 0.7582 - accuracy: 0.6711 - val_loss: 0.7469 - val_accuracy: 0.6767 - lr: 1.0000e-06\n",
      "Epoch 69/100\n",
      "380/380 [==============================] - 1s 3ms/step - loss: 0.7617 - accuracy: 0.6694 - val_loss: 0.7468 - val_accuracy: 0.6762 - lr: 1.0000e-06\n",
      "Epoch 70/100\n",
      "380/380 [==============================] - 1s 3ms/step - loss: 0.7594 - accuracy: 0.6718 - val_loss: 0.7467 - val_accuracy: 0.6767 - lr: 1.0000e-06\n",
      "Epoch 71/100\n",
      "380/380 [==============================] - 1s 3ms/step - loss: 0.7589 - accuracy: 0.6715 - val_loss: 0.7469 - val_accuracy: 0.6762 - lr: 1.0000e-06\n",
      "Epoch 72/100\n",
      "380/380 [==============================] - 1s 3ms/step - loss: 0.7615 - accuracy: 0.6685 - val_loss: 0.7466 - val_accuracy: 0.6770 - lr: 1.0000e-06\n",
      "Epoch 73/100\n",
      "380/380 [==============================] - 1s 3ms/step - loss: 0.7594 - accuracy: 0.6706 - val_loss: 0.7468 - val_accuracy: 0.6764 - lr: 1.0000e-06\n",
      "Epoch 74/100\n",
      "380/380 [==============================] - 1s 3ms/step - loss: 0.7606 - accuracy: 0.6717 - val_loss: 0.7467 - val_accuracy: 0.6769 - lr: 1.0000e-06\n",
      "Epoch 75/100\n",
      "380/380 [==============================] - 1s 3ms/step - loss: 0.7581 - accuracy: 0.6731 - val_loss: 0.7467 - val_accuracy: 0.6764 - lr: 1.0000e-06\n",
      "Epoch 76/100\n",
      "380/380 [==============================] - 1s 3ms/step - loss: 0.7594 - accuracy: 0.6732 - val_loss: 0.7467 - val_accuracy: 0.6764 - lr: 1.0000e-06\n",
      "Epoch 77/100\n",
      "380/380 [==============================] - 1s 3ms/step - loss: 0.7594 - accuracy: 0.6729 - val_loss: 0.7466 - val_accuracy: 0.6762 - lr: 1.0000e-06\n",
      "Epoch 78/100\n",
      "380/380 [==============================] - 1s 3ms/step - loss: 0.7598 - accuracy: 0.6705 - val_loss: 0.7467 - val_accuracy: 0.6756 - lr: 1.0000e-06\n",
      "Epoch 79/100\n",
      "380/380 [==============================] - 1s 3ms/step - loss: 0.7586 - accuracy: 0.6703 - val_loss: 0.7467 - val_accuracy: 0.6769 - lr: 1.0000e-06\n",
      "Epoch 80/100\n",
      "380/380 [==============================] - 1s 3ms/step - loss: 0.7576 - accuracy: 0.6716 - val_loss: 0.7467 - val_accuracy: 0.6759 - lr: 1.0000e-06\n",
      "Epoch 81/100\n",
      "380/380 [==============================] - 1s 3ms/step - loss: 0.7592 - accuracy: 0.6701 - val_loss: 0.7467 - val_accuracy: 0.6766 - lr: 1.0000e-06\n",
      "Epoch 82/100\n",
      "380/380 [==============================] - 1s 3ms/step - loss: 0.7596 - accuracy: 0.6711 - val_loss: 0.7469 - val_accuracy: 0.6752 - lr: 1.0000e-06\n",
      "Epoch 83/100\n",
      "380/380 [==============================] - 1s 3ms/step - loss: 0.7596 - accuracy: 0.6706 - val_loss: 0.7466 - val_accuracy: 0.6766 - lr: 1.0000e-06\n",
      "Epoch 84/100\n",
      "380/380 [==============================] - 1s 3ms/step - loss: 0.7613 - accuracy: 0.6717 - val_loss: 0.7467 - val_accuracy: 0.6766 - lr: 1.0000e-06\n",
      "Epoch 85/100\n",
      "380/380 [==============================] - 1s 3ms/step - loss: 0.7583 - accuracy: 0.6718 - val_loss: 0.7466 - val_accuracy: 0.6767 - lr: 1.0000e-06\n",
      "Epoch 86/100\n",
      "380/380 [==============================] - 1s 3ms/step - loss: 0.7611 - accuracy: 0.6720 - val_loss: 0.7467 - val_accuracy: 0.6762 - lr: 1.0000e-06\n",
      "Epoch 87/100\n",
      "380/380 [==============================] - 1s 3ms/step - loss: 0.7584 - accuracy: 0.6716 - val_loss: 0.7466 - val_accuracy: 0.6770 - lr: 1.0000e-06\n",
      "Epoch 88/100\n",
      "380/380 [==============================] - 1s 3ms/step - loss: 0.7589 - accuracy: 0.6709 - val_loss: 0.7466 - val_accuracy: 0.6767 - lr: 1.0000e-06\n",
      "Epoch 89/100\n",
      "380/380 [==============================] - 1s 3ms/step - loss: 0.7604 - accuracy: 0.6709 - val_loss: 0.7467 - val_accuracy: 0.6764 - lr: 1.0000e-06\n",
      "Epoch 90/100\n",
      "380/380 [==============================] - 1s 3ms/step - loss: 0.7595 - accuracy: 0.6699 - val_loss: 0.7467 - val_accuracy: 0.6759 - lr: 1.0000e-06\n",
      "Epoch 91/100\n",
      "380/380 [==============================] - 1s 3ms/step - loss: 0.7594 - accuracy: 0.6701 - val_loss: 0.7468 - val_accuracy: 0.6762 - lr: 1.0000e-06\n",
      "Epoch 92/100\n",
      "380/380 [==============================] - 1s 3ms/step - loss: 0.7608 - accuracy: 0.6690 - val_loss: 0.7466 - val_accuracy: 0.6772 - lr: 1.0000e-06\n",
      "Epoch 93/100\n",
      "380/380 [==============================] - 1s 3ms/step - loss: 0.7606 - accuracy: 0.6729 - val_loss: 0.7467 - val_accuracy: 0.6756 - lr: 1.0000e-06\n",
      "Epoch 94/100\n",
      "380/380 [==============================] - 1s 3ms/step - loss: 0.7605 - accuracy: 0.6709 - val_loss: 0.7467 - val_accuracy: 0.6762 - lr: 1.0000e-06\n",
      "Epoch 95/100\n",
      "380/380 [==============================] - 1s 3ms/step - loss: 0.7614 - accuracy: 0.6709 - val_loss: 0.7467 - val_accuracy: 0.6766 - lr: 1.0000e-06\n",
      "Epoch 96/100\n",
      "380/380 [==============================] - 1s 3ms/step - loss: 0.7596 - accuracy: 0.6708 - val_loss: 0.7468 - val_accuracy: 0.6767 - lr: 1.0000e-06\n",
      "Epoch 97/100\n",
      "380/380 [==============================] - 1s 3ms/step - loss: 0.7590 - accuracy: 0.6685 - val_loss: 0.7468 - val_accuracy: 0.6766 - lr: 1.0000e-06\n",
      "Epoch 98/100\n",
      "380/380 [==============================] - 1s 3ms/step - loss: 0.7608 - accuracy: 0.6709 - val_loss: 0.7467 - val_accuracy: 0.6764 - lr: 1.0000e-06\n",
      "Epoch 99/100\n",
      "380/380 [==============================] - 1s 3ms/step - loss: 0.7594 - accuracy: 0.6720 - val_loss: 0.7467 - val_accuracy: 0.6761 - lr: 1.0000e-06\n",
      "Epoch 100/100\n",
      "380/380 [==============================] - 1s 3ms/step - loss: 0.7569 - accuracy: 0.6724 - val_loss: 0.7469 - val_accuracy: 0.6751 - lr: 1.0000e-06\n"
     ]
    }
   ],
   "source": [
    "from keras.models import Sequential\n",
    "from keras.layers import Dense, Dropout, BatchNormalization\n",
    "from keras.optimizers import Adam\n",
    "from keras.callbacks import ReduceLROnPlateau\n",
    "\n",
    "# Build a deeper neural network with BatchNormalization and dropout\n",
    "model = Sequential()\n",
    "model.add(Dense(256, activation='relu', input_shape=(X_train_scaled.shape[1],)))\n",
    "model.add(BatchNormalization())  # Adding BatchNormalization layer\n",
    "model.add(Dropout(0.5))  # Adding dropout layer\n",
    "model.add(Dense(128, activation='relu'))\n",
    "model.add(BatchNormalization())  # Adding BatchNormalization layer\n",
    "model.add(Dropout(0.5))  # Adding dropout layer\n",
    "model.add(Dense(64, activation='relu'))\n",
    "model.add(BatchNormalization())  # Adding BatchNormalization layer\n",
    "model.add(Dropout(0.5))  # Adding dropout layer\n",
    "model.add(Dense(3, activation='softmax'))\n",
    "\n",
    "# Compile the model with adjusted learning rate and optimizer\n",
    "model.compile(optimizer=Adam(lr=0.001), loss='categorical_crossentropy', metrics=['accuracy'])\n",
    "\n",
    "# Add learning rate scheduling\n",
    "lr_scheduler = ReduceLROnPlateau(monitor='val_loss', factor=0.2, patience=5, min_lr=1e-6)\n",
    "\n",
    "# Train the model with more epochs and batch size\n",
    "history = model.fit(X_train_scaled, y_train_categorical, epochs=100, batch_size=64,\n",
    "                    validation_split=0.2, callbacks=[lr_scheduler], verbose=1)\n"
   ]
  },
  {
   "cell_type": "code",
   "execution_count": null,
   "id": "2cd50bbd",
   "metadata": {},
   "outputs": [],
   "source": []
  },
  {
   "cell_type": "code",
   "execution_count": null,
   "id": "71b756b3",
   "metadata": {},
   "outputs": [],
   "source": []
  },
  {
   "cell_type": "code",
   "execution_count": 115,
   "id": "64ee3a63",
   "metadata": {},
   "outputs": [],
   "source": [
    "# Compile the model\n",
    "model.compile(optimizer='adam', loss='categorical_crossentropy', metrics=['accuracy'])"
   ]
  },
  {
   "cell_type": "code",
   "execution_count": 116,
   "id": "bcd3a358",
   "metadata": {},
   "outputs": [
    {
     "name": "stdout",
     "output_type": "stream",
     "text": [
      "Epoch 1/10\n",
      "949/949 [==============================] - 11s 11ms/step - loss: 0.7867 - accuracy: 0.6606\n",
      "Epoch 2/10\n",
      "949/949 [==============================] - 11s 11ms/step - loss: 0.7677 - accuracy: 0.6675\n",
      "Epoch 3/10\n",
      "949/949 [==============================] - 11s 11ms/step - loss: 0.7615 - accuracy: 0.6700\n",
      "Epoch 4/10\n",
      "949/949 [==============================] - 11s 11ms/step - loss: 0.7562 - accuracy: 0.6739\n",
      "Epoch 5/10\n",
      "949/949 [==============================] - 11s 11ms/step - loss: 0.7516 - accuracy: 0.6750\n",
      "Epoch 6/10\n",
      "949/949 [==============================] - 11s 12ms/step - loss: 0.7444 - accuracy: 0.6789\n",
      "Epoch 7/10\n",
      "949/949 [==============================] - 11s 11ms/step - loss: 0.7416 - accuracy: 0.6798\n",
      "Epoch 8/10\n",
      "949/949 [==============================] - 11s 12ms/step - loss: 0.7326 - accuracy: 0.6837\n",
      "Epoch 9/10\n",
      "949/949 [==============================] - 11s 11ms/step - loss: 0.7234 - accuracy: 0.6858\n",
      "Epoch 10/10\n",
      "949/949 [==============================] - 11s 12ms/step - loss: 0.7163 - accuracy: 0.6912\n"
     ]
    },
    {
     "data": {
      "text/plain": [
       "<keras.src.callbacks.History at 0x29a25e389a0>"
      ]
     },
     "execution_count": 116,
     "metadata": {},
     "output_type": "execute_result"
    }
   ],
   "source": [
    "# Train the model\n",
    "model.fit(X_train_scaled, y_train_categorical, epochs=10, batch_size=32, verbose=1)"
   ]
  },
  {
   "cell_type": "code",
   "execution_count": 125,
   "id": "2af8948f",
   "metadata": {},
   "outputs": [
    {
     "name": "stdout",
     "output_type": "stream",
     "text": [
      "468/468 [==============================] - 0s 917us/step - loss: 0.7613 - accuracy: 0.6680\n",
      "Accuracy: 0.67\n"
     ]
    }
   ],
   "source": [
    "# Evaluate the model\n",
    "loss, accuracy = model.evaluate(X_test_scaled, y_test_categorical)\n",
    "print(f'Accuracy: {accuracy:.2f}')"
   ]
  },
  {
   "cell_type": "code",
   "execution_count": 126,
   "id": "7c96d2ed",
   "metadata": {},
   "outputs": [
    {
     "name": "stdout",
     "output_type": "stream",
     "text": [
      "468/468 [==============================] - 0s 795us/step\n"
     ]
    }
   ],
   "source": [
    "# Predict on the test set\n",
    "y_pred = model.predict(X_test_scaled)"
   ]
  },
  {
   "cell_type": "code",
   "execution_count": 127,
   "id": "62d30bae",
   "metadata": {},
   "outputs": [
    {
     "name": "stdout",
     "output_type": "stream",
     "text": [
      "Classification Report:\n",
      "              precision    recall  f1-score   support\n",
      "\n",
      "           0       0.51      0.09      0.15      2458\n",
      "           1       0.55      0.65      0.59      3873\n",
      "           2       0.73      0.84      0.78      8614\n",
      "\n",
      "    accuracy                           0.67     14945\n",
      "   macro avg       0.60      0.53      0.51     14945\n",
      "weighted avg       0.65      0.67      0.63     14945\n",
      "\n"
     ]
    }
   ],
   "source": [
    "# Assuming y_pred contains probabilities for each class\n",
    "y_pred_labels = np.argmax(y_pred, axis=1)  # Convert probabilities to class labels\n",
    "\n",
    "class_report = classification_report(y_test, y_pred_labels, labels=np.unique(y_pred_labels))\n",
    "print('Classification Report:')\n",
    "print(class_report)\n",
    "\n"
   ]
  },
  {
   "cell_type": "markdown",
   "id": "80caca97",
   "metadata": {},
   "source": [
    "## MultiNomial Naive Base Model"
   ]
  },
  {
   "cell_type": "code",
   "execution_count": 18,
   "id": "91d81dfe",
   "metadata": {},
   "outputs": [],
   "source": [
    "#Multinomial Model\n",
    "model = MultinomialNB()\n",
    "model.fit(X,y)\n",
    "\n",
    "predict = model.predict(X_test)"
   ]
  },
  {
   "cell_type": "code",
   "execution_count": 19,
   "id": "721798bf",
   "metadata": {},
   "outputs": [
    {
     "data": {
      "image/png": "[encoded data removed]",
      "text/plain": [
       "<Figure size 800x600 with 1 Axes>"
      ]
     },
     "metadata": {},
     "output_type": "display_data"
    },
    {
     "name": "stdout",
     "output_type": "stream",
     "text": [
      "0.526882024305949\n"
     ]
    }
   ],
   "source": [
    "#Measure Output of MultiNomial Model\n",
    "cat_lbl = ['drunk_driver_involved', 'speeding_driver_involved','other']\n",
    "cm = confusion_matrix(y_test, predict, labels = cat_lbl )\n",
    "\n",
    "plt.figure(figsize=(8, 6))\n",
    "sns.heatmap(cm, annot=True, fmt=\"d\", cmap=\"Blues\", cbar=False, xticklabels=cat_lbl,  yticklabels=cat_lbl)\n",
    "plt.xlabel(\"Predicted Labels\")\n",
    "plt.ylabel(\"True Labels\")\n",
    "plt.title(\"Confusion Matrix\")\n",
    "plt.show()\n",
    "\n",
    "print(f1_score(y_test, predict, average='macro', labels=cat_lbl))"
   ]
  },
  {
   "cell_type": "code",
   "execution_count": null,
   "id": "8c843b00",
   "metadata": {},
   "outputs": [],
   "source": []
  }
 ],
 "metadata": {
  "kernelspec": {
   "display_name": "Python 3 (ipykernel)",
   "language": "python",
   "name": "python3"
  },
  "language_info": {
   "codemirror_mode": {
    "name": "ipython",
    "version": 3
   },
   "file_extension": ".py",
   "mimetype": "text/x-python",
   "name": "python",
   "nbconvert_exporter": "python",
   "pygments_lexer": "ipython3",
   "version": "3.10.11"
  }
 },
 "nbformat": 4,
 "nbformat_minor": 5
}
